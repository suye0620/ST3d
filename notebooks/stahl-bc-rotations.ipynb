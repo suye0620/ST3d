{
 "cells": [
  {
   "cell_type": "code",
   "execution_count": 1,
   "metadata": {},
   "outputs": [],
   "source": [
    "import math\n",
    "import random\n",
    "import pandas as pd\n",
    "import numpy as np\n",
    "import seaborn as sns\n",
    "import matplotlib.pyplot as plt\n",
    "from matplotlib import style\n",
    "import matplotlib as mpl\n",
    "import paste\n",
    "import scanpy as sc\n",
    "import anndata\n",
    "from sklearn.decomposition import NMF\n",
    "import scanorama\n",
    "import scipy\n",
    "import os\n",
    "\n",
    "style.use('seaborn-dark')\n",
    "mpl.rc('xtick', labelsize=14) \n",
    "mpl.rc('ytick', labelsize=14) "
   ]
  },
  {
   "cell_type": "markdown",
   "metadata": {},
   "source": [
    "# Define Functions"
   ]
  },
  {
   "cell_type": "code",
   "execution_count": 2,
   "metadata": {},
   "outputs": [],
   "source": [
    "def rotate_spots(grid,spots,theta=0,translation=0,center_correction=0,figsize=(5,5),plot=True):\n",
    "    grid = grid.copy() + center_correction\n",
    "    spots = spots.copy() + center_correction\n",
    "    R = np.array([[np.cos(theta),-np.sin(theta)],[np.sin(theta),np.cos(theta)]])\n",
    "    rotated_spots = np.array([R.dot(spots[i]) for i in range(len(spots))])\n",
    "    rotated_spots += translation\n",
    "\n",
    "    new_spots = grid[np.argmin(scipy.spatial.distance.cdist(rotated_spots,grid),axis=1)]\n",
    "\n",
    "    grid -= center_correction\n",
    "    spots -= center_correction\n",
    "    rotated_spots -= center_correction\n",
    "    new_spots -= center_correction\n",
    "\n",
    "    seen = {}\n",
    "    mapping = []\n",
    "    for i in range(len(new_spots)):\n",
    "        if tuple(new_spots[i]) in seen: continue\n",
    "        seen[tuple(new_spots[i])] = 1\n",
    "        mapping.append(i)\n",
    "\n",
    "    if plot:\n",
    "        fig = plt.figure(figsize=figsize)\n",
    "        sns.scatterplot(x = grid[:,0],y = grid[:,1],linewidth=0,s=100, marker=\".\",alpha=0.2,color='blue')\n",
    "        sns.scatterplot(x = rotated_spots[:,0],y = rotated_spots[:,1],linewidth=0,s=100, marker=\".\",color='red')\n",
    "        sns.scatterplot(x = new_spots[:,0],y = new_spots[:,1],linewidth=0,s=100, marker=\".\",color='green')\n",
    "        plt.show()\n",
    "\n",
    "    return new_spots,mapping\n",
    "\n",
    "def simulate_spatial(adata, rotation_angle):\n",
    "    adata_sim = adata.copy()\n",
    "\n",
    "    grid_size = 40\n",
    "    layer_grid = np.array([[x,y] for x in range(grid_size) for y in range(grid_size)])\n",
    "    new_spots, mappings = rotate_spots(layer_grid, adata.obsm['spatial'], center_correction=-15, \n",
    "                                       theta= rotation_angle, plot = False)\n",
    "    adata_sim.obsm['spatial'] = new_spots\n",
    "    return adata_sim[mappings, :], mappings"
   ]
  },
  {
   "cell_type": "code",
   "execution_count": 3,
   "metadata": {},
   "outputs": [],
   "source": [
    "def plot1(adata, title = None):\n",
    "        \"\"\"\n",
    "        Visualizes distribution of spot coordinates\n",
    "        \"\"\"\n",
    "        plt.figure(figsize= (5, 5))\n",
    "        x = adata.obsm['spatial'][:, 0]\n",
    "        y = adata.obsm['spatial'][:, 1]\n",
    "        x = x - np.mean(x)\n",
    "        y = y - np.mean(y)\n",
    "        ax = sns.scatterplot(x, y, color = '#1f77b4')\n",
    "        ax.set(xlim=(-17, 17), ylim=(-17,17))\n",
    "        ax.set_xlabel('x', fontsize=14)\n",
    "        ax.set_ylabel('y', fontsize=14)\n",
    "        ax.set_facecolor('white')\n",
    "        ax.patch.set_edgecolor('black')\n",
    "        ax.patch.set_linewidth('1')  \n",
    "        if title == None:\n",
    "            # plt.title('Visualization of Tissue Layer')\n",
    "            a = 1\n",
    "        else:\n",
    "            plt.title(title)\n",
    "        plt.tick_params(labelleft=False, labelbottom=False)\n",
    "        return plt"
   ]
  },
  {
   "cell_type": "markdown",
   "metadata": {},
   "source": [
    "# Generate Plots"
   ]
  },
  {
   "cell_type": "code",
   "execution_count": 4,
   "metadata": {},
   "outputs": [],
   "source": [
    "def load_breast_layer(path):\n",
    "    X = pd.read_csv(path, index_col= 0)\n",
    "    coor = []\n",
    "    for c in X.index:\n",
    "        coor.append([float(x) for x in c.split('x')])\n",
    "    adata = anndata.AnnData(X = X)\n",
    "    adata.obsm['spatial'] = np.array(coor)\n",
    "    return adata"
   ]
  },
  {
   "cell_type": "code",
   "execution_count": 5,
   "metadata": {},
   "outputs": [],
   "source": [
    "layer1_path = \"../data/Stahl-BC/stahl_bc_slice1.csv\" \n",
    "layer2_path = \"../data/Stahl-BC/stahl_bc_slice2.csv\"\n",
    "layer3_path = \"../data/Stahl-BC/stahl_bc_slice3.csv\"\n",
    "layer4_path = \"../data/Stahl-BC/stahl_bc_slice4.csv\"\n",
    "\n",
    "adata_layer_1 = load_breast_layer(layer1_path)\n",
    "adata_layer_2 = load_breast_layer(layer2_path)\n",
    "adata_layer_3 = load_breast_layer(layer3_path)\n",
    "adata_layer_4 = load_breast_layer(layer4_path)\n",
    "\n",
    "slices = {\n",
    "    \"SliceA\" : adata_layer_1,\n",
    "    \"SliceB\" : adata_layer_2,\n",
    "    \"SliceC\" : adata_layer_3,\n",
    "    \"SliceD\" : adata_layer_4\n",
    "}"
   ]
  },
  {
   "cell_type": "code",
   "execution_count": 7,
   "metadata": {},
   "outputs": [
    {
     "name": "stderr",
     "output_type": "stream",
     "text": [
      "/home/max/Programs/lib/python3.7/site-packages/seaborn/_decorators.py:43: FutureWarning: Pass the following variables as keyword args: x, y. From version 0.12, the only valid positional argument will be `data`, and passing other arguments without an explicit keyword will result in an error or misinterpretation.\n",
      "  FutureWarning\n",
      "/home/max/Programs/lib/python3.7/site-packages/seaborn/_decorators.py:43: FutureWarning: Pass the following variables as keyword args: x, y. From version 0.12, the only valid positional argument will be `data`, and passing other arguments without an explicit keyword will result in an error or misinterpretation.\n",
      "  FutureWarning\n",
      "/home/max/Programs/lib/python3.7/site-packages/seaborn/_decorators.py:43: FutureWarning: Pass the following variables as keyword args: x, y. From version 0.12, the only valid positional argument will be `data`, and passing other arguments without an explicit keyword will result in an error or misinterpretation.\n",
      "  FutureWarning\n",
      "/home/max/Programs/lib/python3.7/site-packages/seaborn/_decorators.py:43: FutureWarning: Pass the following variables as keyword args: x, y. From version 0.12, the only valid positional argument will be `data`, and passing other arguments without an explicit keyword will result in an error or misinterpretation.\n",
      "  FutureWarning\n"
     ]
    },
    {
     "data": {
      "image/png": "[encoded data removed]",
      "text/plain": [
       "<Figure size 360x360 with 1 Axes>"
      ]
     },
     "metadata": {},
     "output_type": "display_data"
    },
    {
     "data": {
      "image/png": "[encoded data removed]",
      "text/plain": [
       "<Figure size 360x360 with 1 Axes>"
      ]
     },
     "metadata": {},
     "output_type": "display_data"
    },
    {
     "data": {
      "image/png": "[encoded data removed]",
      "text/plain": [
       "<Figure size 360x360 with 1 Axes>"
      ]
     },
     "metadata": {},
     "output_type": "display_data"
    },
    {
     "data": {
      "image/png": "[encoded data removed]",
      "text/plain": [
       "<Figure size 360x360 with 1 Axes>"
      ]
     },
     "metadata": {},
     "output_type": "display_data"
    }
   ],
   "source": [
    "plots = []\n",
    "plot1(adata_layer_2, title = 'Slice B')\n",
    "# plt.savefig('original.png', dpi = 300, bbox_inches = \"tight\")\n",
    "sim_layers = []\n",
    "maps = []\n",
    "theta_angles = [math.pi/6, math.pi*2/6, math.pi*4/6]\n",
    "for i in range(3):\n",
    "    adata_layer_sim_spatial, mappings = simulate_spatial(adata_layer_2, theta_angles[i])\n",
    "    sim_layers.append(adata_layer_sim_spatial)\n",
    "    maps.append(mappings)\n",
    "for sim, t in zip(sim_layers, ['pi6', 'pi3', '2pi3']):\n",
    "    plot1(sim, title = t)\n",
    "    # plt.savefig(t + '.png', dpi = 300, bbox_inches = \"tight\")"
   ]
  }
 ],
 "metadata": {
  "kernelspec": {
   "display_name": "Python 3",
   "language": "python",
   "name": "python3"
  },
  "language_info": {
   "codemirror_mode": {
    "name": "ipython",
    "version": 3
   },
   "file_extension": ".py",
   "mimetype": "text/x-python",
   "name": "python",
   "nbconvert_exporter": "python",
   "pygments_lexer": "ipython3",
   "version": "3.8.3"
  },
  "toc": {
   "base_numbering": 1,
   "nav_menu": {},
   "number_sections": true,
   "sideBar": true,
   "skip_h1_title": false,
   "title_cell": "Table of Contents",
   "title_sidebar": "Contents",
   "toc_cell": false,
   "toc_position": {},
   "toc_section_display": true,
   "toc_window_display": false
  }
 },
 "nbformat": 4,
 "nbformat_minor": 4
}
