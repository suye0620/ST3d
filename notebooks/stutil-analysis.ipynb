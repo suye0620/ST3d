{
 "cells": [
  {
   "cell_type": "code",
   "execution_count": 16,
   "id": "658b436a-82e8-4562-a15b-ee81987ea41e",
   "metadata": {},
   "outputs": [],
   "source": [
    "import pandas as pd\n",
    "import numpy as np\n",
    "import scipy\n",
    "import ot\n",
    "import matplotlib.pyplot as plt\n",
    "\n",
    "def norm_and_center_coordinates(X): \n",
    "    \"\"\"\n",
    "    param: X - numpy array\n",
    "    \n",
    "    return: \n",
    "    \"\"\"\n",
    "    return (X-X.mean(axis=0))/min(scipy.spatial.distance.pdist(X))\n",
    "\n",
    "def match_spots_using_spatial_heuristic(X,Y,use_ot=True):\n",
    "    \"\"\"\n",
    "    param: X - numpy array\n",
    "    param: Y - numpy array\n",
    "    \n",
    "    return: pi- mapping of spots using spatial heuristic\n",
    "    \"\"\"\n",
    "    n1,n2=len(X),len(Y)\n",
    "    X,Y = norm_and_center_coordinates(X),norm_and_center_coordinates(Y)\n",
    "    dist = scipy.spatial.distance_matrix(X,Y)\n",
    "    if use_ot:\n",
    "        pi = ot.emd(np.ones(n1)/n1, np.ones(n2)/n2, dist)\n",
    "    else:\n",
    "        row_ind, col_ind = scipy.sparse.csgraph.min_weight_full_bipartite_matching(scipy.sparse.csr_matrix(dist))\n",
    "        pi = np.zeros((n1,n2))\n",
    "        pi[row_ind, col_ind] = 1/max(n1,n2)\n",
    "        if n1<n2: pi[:, [(j not in col_ind) for j in range(n2)]] = 1/(n1*n2)\n",
    "        elif n2<n1: pi[[(i not in row_ind) for i in range(n1)], :] = 1/(n1*n2)\n",
    "    return pi\n",
    "\n",
    "def mapping_accuracy(labels1,labels2,pi):\n",
    "    mapping_dict = {'Layer1':1, 'Layer2':2, 'Layer3':3, 'Layer4':4, 'Layer5':5, 'Layer6':6, 'WM':7}\n",
    "    return np.sum(pi*(scipy.spatial.distance_matrix(np.matrix(labels1.map(mapping_dict) ).T,np.matrix(labels2.map(mapping_dict)).T)==0))\n",
    "\n",
    "def get_coords(df, which_coords = (\"x\", \"y\"), num_slices=4):\n",
    "    return [df.loc[df[\"sample\"] == i,[which_coords[0], which_coords[1]]].to_numpy() for i in range(1,num_slices+1)]\n",
    "\n",
    "\n",
    "def add_clusters(df_coords, df_colinfo, which_sample=(1, 151673)):\n",
    "    d_slice_coords = dict(tuple(df_coords.groupby('sample'))) \n",
    "    \n",
    "    # create a dictionary where every key is unique name in sample_name colum; every value is a df \n",
    "    d_colinfo = dict(tuple(df_colinfo.groupby('sample_name'))) \n",
    "    df_final_clusts = d_colinfo[which_sample[1]].dropna(subset=[\"layer_guess_reordered\"])[[\"barcode\", \"layer_guess_reordered\"]]\n",
    "\n",
    "    return d_slice_coords[which_sample[0]].merge(df_final_clusts, how=\"right\", on=\"barcode\").dropna()\n",
    "\n",
    "def compute_pair_accs(df_coords, col_data, p, which_coords=[\"x\", \"y\"]):\n",
    "    accs, pis, coords, ids = [], [], [], []\n",
    "    for (i, (first, second)) in enumerate(zip(p, p[1:])): # Iterate over consecutive pairs\n",
    "        print(first, second)\n",
    "        df_first = add_clusters(df_coords, col_data, first)\n",
    "        df_second = add_clusters(df_coords, col_data, second)\n",
    "    \n",
    "        coords_1, coords_2 = df_first[which_coords].to_numpy(), df_second[which_coords].to_numpy()\n",
    "        pi = match_spots_using_spatial_heuristic(coords_1, coords_2)\n",
    "        acc = mapping_accuracy(df_first[\"layer_guess_reordered\"], df_second[\"layer_guess_reordered\"], pi)\n",
    "        accs.append(acc)\n",
    "        pis.append(pi)\n",
    "        coords.append(coords_1)\n",
    "        ids.append(df_first[\"barcode\"].to_list())\n",
    "        if i == 2:\n",
    "            coords.append(coords_2)\n",
    "            ids.append(df_second[\"barcode\"].to_list())\n",
    "    return accs, pis, coords, ids"
   ]
  },
  {
   "cell_type": "code",
   "execution_count": 17,
   "id": "103033cf-44b6-4cc1-b7ee-9f30a5de45ca",
   "metadata": {},
   "outputs": [],
   "source": [
    "base_path = \"../data/DLPFC/saved_results/\"\n",
    "res_df = pd.read_csv(base_path + \"PASTE_pairwise_accuracy_results_new.csv\") \n",
    "d_res = dict(tuple(res_df.groupby('kind')))"
   ]
  },
  {
   "cell_type": "code",
   "execution_count": 18,
   "id": "9b97e39b-1863-4f05-a1e9-263054cb3b6e",
   "metadata": {},
   "outputs": [],
   "source": [
    "# Output of STutil labels each slice by a number so for each patient have to label each slice also by 1, 2, 3, 4...\n",
    "pat_1 = [(i, int(f\"15150{i+6}\")) for i in range(1,4)] + [(4, int(\"151510\"))]\n",
    "pat_2 = [(1, int(\"151669\"))] + [(i+1, int(f\"15167{i-1}\")) for i in range(1,4)]\n",
    "pat_3 =  [(i, int(f\"15167{i+2}\")) for i in range(1,4+1)]\n",
    "\n",
    "col_data = pd.read_csv(base_path + \"colDataAll.csv\")"
   ]
  },
  {
   "cell_type": "code",
   "execution_count": 19,
   "id": "c77728cf-c91f-41c3-a831-b6531041f381",
   "metadata": {
    "tags": []
   },
   "outputs": [
    {
     "name": "stdout",
     "output_type": "stream",
     "text": [
      "(1, 151507) (2, 151508)\n",
      "(2, 151508) (3, 151509)\n",
      "(3, 151509) (4, 151510)\n",
      "unaligned accs: [0.8144054891032109, 0.2119327173598592, 0.8690796632495298]\n",
      "(1, 151507) (2, 151508)\n",
      "(2, 151508) (3, 151509)\n",
      "(3, 151509) (4, 151510)\n",
      "aligned accs: [0.6130960830460331, 0.24303344719555708, 0.8637965061365807]\n",
      "(1, 151669) (2, 151670)\n",
      "(2, 151670) (3, 151671)\n",
      "(3, 151671) (4, 151672)\n",
      "unaligned accs: [0.902531010850797, 0.5924983793842575, 0.8633977110373154]\n",
      "(1, 151669) (2, 151670)\n",
      "(2, 151670) (3, 151671)\n",
      "(3, 151671) (4, 151672)\n"
     ]
    },
    {
     "name": "stderr",
     "output_type": "stream",
     "text": [
      "/Users/alexanderstrzalkowski/.pyenv/versions/3.8.3/lib/python3.8/site-packages/ot/lp/__init__.py:276: UserWarning: numItermax reached before optimality. Try to increase numItermax.\n",
      "  result_code_string = check_result(result_code)\n"
     ]
    },
    {
     "name": "stdout",
     "output_type": "stream",
     "text": [
      "aligned accs: [0.9095759461135535, 0.5782866101374987, 0.4643788602240708]\n",
      "(1, 151673) (2, 151674)\n",
      "(2, 151674) (3, 151675)\n",
      "(3, 151675) (4, 151676)\n",
      "unaligned accs: [0.8553711588120867, 0.8290505392130079, 0.8406006042037372]\n",
      "(1, 151673) (2, 151674)\n",
      "(2, 151674) (3, 151675)\n",
      "(3, 151675) (4, 151676)\n",
      "aligned accs: [0.8499714878540596, 0.3054962001664792, 0.14454407890316787]\n"
     ]
    }
   ],
   "source": [
    "datas, pis, cs, bar_ids = [], [], [], []\n",
    "for (i, pat) in enumerate([pat_1, pat_2, pat_3]):\n",
    "    df_coords = pd.read_csv(base_path + f\"pat-{i+1}-all-slices-STutil-coords-default.csv\")\n",
    "    accs_unalign_xy, _, _, _ = compute_pair_accs(df_coords, col_data, pat)\n",
    "    print(f\"unaligned accs: {accs_unalign_xy}\")\n",
    "    \n",
    "    accs_align_xy, pis_stutil, coords, barcodes = compute_pair_accs(df_coords, col_data, pat, [\"align_x\", \"align_y\"])\n",
    "    pis.append(pis_stutil)\n",
    "    print(f\"aligned accs: {accs_align_xy}\")\n",
    "    \n",
    "    data = [accs_unalign_xy, accs_align_xy]\n",
    "    datas.append(data)\n",
    "    cs.append(coords)\n",
    "    bar_ids.append(barcodes)"
   ]
  },
  {
   "cell_type": "code",
   "execution_count": 20,
   "id": "ab524eed-1d46-4fea-8fb0-7ac0fa502456",
   "metadata": {},
   "outputs": [],
   "source": [
    "samples, slice_pairs = [\"I\", \"II\", \"III\"], [\"AB\", \"BC\", \"CD\"]\n",
    "stutils_res = [[samples[i], slice_pairs[j], \"STutility-default\", 0.0, datas[i][1][j], np.nan, 0.0, np.nan] for i in range(3) for j in range(3)]\n",
    "ls =list(range(153,162))  \n",
    "for (i, l) in enumerate(ls):\n",
    "    stutils_res[i].insert(0,l)\n",
    "stutils_df = pd.DataFrame(stutils_res, columns=res_df.columns)\n",
    "final_df = res_df.append(stutils_df)#.sort_values(\"Sample\")\n",
    "final_df.to_csv(base_path + \"PASTE_pairwise_accuracy_results_new_2\", encoding='utf-8', index=False)"
   ]
  },
  {
   "cell_type": "code",
   "execution_count": 21,
   "id": "646401a7-3dbe-41f7-8f92-8f64c2be0e8e",
   "metadata": {},
   "outputs": [],
   "source": [
    "pats = [pat_1, pat_2, pat_3]"
   ]
  },
  {
   "cell_type": "code",
   "execution_count": 22,
   "id": "af9d97ec-bfb5-4a07-99f3-7b8f9147bfe5",
   "metadata": {},
   "outputs": [],
   "source": [
    "ids = []\n",
    "for i in range(3):\n",
    "    for j in range(4):\n",
    "        slice_id = pats[i][j][1]\n",
    "        ids.append(slice_id)"
   ]
  },
  {
   "cell_type": "code",
   "execution_count": 23,
   "id": "49296d60-4976-47ae-8a50-87414becea1a",
   "metadata": {},
   "outputs": [
    {
     "name": "stdout",
     "output_type": "stream",
     "text": [
      "['151507-151508', '151508-151509', '151509-151510', '151669-151670', '151670-151671', '151671-151672', '151673-151674', '151674-151675', '151675-151676']\n"
     ]
    }
   ],
   "source": [
    "pairs = [f\"{first}-{second}\" for first, second in zip(ids, ids[1:])]\n",
    "del pairs[3]\n",
    "del pairs[6]\n",
    "print(pairs)"
   ]
  },
  {
   "cell_type": "code",
   "execution_count": 24,
   "id": "75a11cfd-35fe-44b5-a418-b46492a276c4",
   "metadata": {},
   "outputs": [],
   "source": [
    "ss = [s for pi in pis for s in pi]"
   ]
  },
  {
   "cell_type": "code",
   "execution_count": 25,
   "id": "4a4e3fde-3f20-43e2-9fb7-c9f93a0180b6",
   "metadata": {},
   "outputs": [
    {
     "name": "stdout",
     "output_type": "stream",
     "text": [
      "151507-151508-stutil-alignment.csv\n",
      "(4221, 4381)\n",
      "151508-151509-stutil-alignment.csv\n",
      "(4381, 4788)\n",
      "151509-151510-stutil-alignment.csv\n",
      "(4788, 4595)\n",
      "151669-151670-stutil-alignment.csv\n",
      "(3636, 3484)\n",
      "151670-151671-stutil-alignment.csv\n",
      "(3484, 4093)\n",
      "151671-151672-stutil-alignment.csv\n",
      "(4093, 3888)\n",
      "151673-151674-stutil-alignment.csv\n",
      "(3611, 3635)\n",
      "151674-151675-stutil-alignment.csv\n",
      "(3635, 3566)\n",
      "151675-151676-stutil-alignment.csv\n",
      "(3566, 3431)\n"
     ]
    }
   ],
   "source": [
    "for (p_id, pi) in zip(pairs, ss):\n",
    "    print(f\"{p_id}-stutil-alignment.csv\")\n",
    "    print(pi.shape)\n",
    "    #np.savetxt(base_path + f\"{p_id}-stutil-alignment.csv\", pi, delimiter=',')"
   ]
  },
  {
   "cell_type": "code",
   "execution_count": 26,
   "id": "ad5afcda-6782-445a-b2ad-a622e8deaf16",
   "metadata": {},
   "outputs": [
    {
     "name": "stdout",
     "output_type": "stream",
     "text": [
      "(4221, 3)\n",
      "(4381, 3)\n",
      "(4788, 3)\n",
      "(4595, 3)\n",
      "(3636, 3)\n",
      "(3484, 3)\n",
      "(4093, 3)\n",
      "(3888, 3)\n",
      "(3611, 3)\n",
      "(3635, 3)\n",
      "(3566, 3)\n",
      "(3431, 3)\n"
     ]
    }
   ],
   "source": [
    "for i in range(1,4):\n",
    "    for j in range(1,5):\n",
    "        df_tmp = pd.DataFrame(cs[i-1][j-1])\n",
    "        df_tmp.columns = [\"align_x\", \"align_y\"]\n",
    "        barcode = bar_ids[i-1][j-1]\n",
    "        df_tmp[\"barcode\"] = barcode\n",
    "        print(df_tmp.shape)\n",
    "        slice_id = pats[i-1][j-1][1]\n",
    "        fn = base_path + f\"{slice_id}-STUtil-coords-default.csv\"\n",
    "        #df_tmp.to_csv(fn, index=False)"
   ]
  }
 ],
 "metadata": {
  "kernelspec": {
   "display_name": "Python 3",
   "language": "python",
   "name": "python3"
  },
  "language_info": {
   "codemirror_mode": {
    "name": "ipython",
    "version": 3
   },
   "file_extension": ".py",
   "mimetype": "text/x-python",
   "name": "python",
   "nbconvert_exporter": "python",
   "pygments_lexer": "ipython3",
   "version": "3.8.3"
  }
 },
 "nbformat": 4,
 "nbformat_minor": 5
}
