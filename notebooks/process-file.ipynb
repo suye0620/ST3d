{
 "cells": [
  {
   "cell_type": "code",
   "execution_count": 1,
   "metadata": {},
   "outputs": [],
   "source": [
    "import numpy as np\n",
    "#import h5py\n",
    "#import scipy.io as scio\n",
    "#import scipy.sparse as sp\n",
    "import pandas as pd\n",
    "import scanpy as sc\n",
    "# Sample I: “151507”, “151508\", “151509”,“151510\"\n",
    "# Sample II: “151669”, “151670\",“151671”, “151672\" \n",
    "# Sample III: “151673”,“151674\", “151675”, “151676\""
   ]
  },
  {
   "cell_type": "code",
   "execution_count": 4,
   "metadata": {},
   "outputs": [],
   "source": [
    "def save_file(x, fn):\n",
    "    pd.DataFrame(x).to_csv(fn, header=None, index=None)\n",
    "\n",
    "def process_files(which_sample):\n",
    "    if which_sample == \"1\":\n",
    "        slices = [f\"50{i}\" for i in range(7,10)] + [\"510\"]\n",
    "    elif which_sample == \"2\":\n",
    "        slices = [f\"6{i}\" for i in range(69,73)]\n",
    "    elif which_sample == \"3\":\n",
    "        slices = [f\"6{i}\" for i in range(73,77)]\n",
    "    for s in slices:\n",
    "        fn = \"data/151\" + s + \"_preprocessed.h5\"\n",
    "        adata = sc.read_h5ad(fn)\n",
    "        save_file(adata.X.T.todense(), f\"data/X-{s}.csv\")\n",
    "        print(f\"Done Saving X-{s}\")\n",
    "        save_file(adata.obs.index, f\"data/spotnames-{s}.csv\")\n",
    "        save_file(adata.var.index, f\"data/genenames-{s}.csv\")"
   ]
  },
  {
   "cell_type": "code",
   "execution_count": 5,
   "metadata": {
    "tags": []
   },
   "outputs": [
    {
     "name": "stdout",
     "output_type": "stream",
     "text": [
      "Done Saving X-507\n",
      "Done Saving X-508\n",
      "Done Saving X-509\n",
      "Done Saving X-510\n",
      "Done Saving X-669\n",
      "Done Saving X-670\n",
      "Done Saving X-671\n",
      "Done Saving X-672\n",
      "Done Saving X-673\n",
      "Done Saving X-674\n",
      "Done Saving X-675\n",
      "Done Saving X-676\n"
     ]
    }
   ],
   "source": [
    "for i in [\"1\", \"2\", \"3\"]:\n",
    "    process_files(i)"
   ]
  },
  {
   "cell_type": "code",
   "execution_count": null,
   "metadata": {},
   "outputs": [],
   "source": []
  }
 ],
 "metadata": {
  "kernelspec": {
   "display_name": "Python 3",
   "language": "python",
   "name": "python3"
  },
  "language_info": {
   "codemirror_mode": {
    "name": "ipython",
    "version": 3
   },
   "file_extension": ".py",
   "mimetype": "text/x-python",
   "name": "python",
   "nbconvert_exporter": "python",
   "pygments_lexer": "ipython3",
   "version": "3.8.3"
  }
 },
 "nbformat": 4,
 "nbformat_minor": 4
}
