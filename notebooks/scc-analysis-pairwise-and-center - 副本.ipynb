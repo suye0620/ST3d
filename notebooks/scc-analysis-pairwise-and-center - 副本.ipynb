{
 "cells": [
  {
   "cell_type": "code",
   "execution_count": 3,
   "metadata": {},
   "outputs": [
    {
     "name": "stderr",
     "output_type": "stream",
     "text": [
      "C:\\Users\\jinLab1\\AppData\\Local\\Temp\\ipykernel_10236\\722246406.py:16: MatplotlibDeprecationWarning: The seaborn styles shipped by Matplotlib are deprecated since 3.6, as they no longer correspond to the styles shipped by seaborn. However, they will remain available as 'seaborn-v0_8-<style>'. Alternatively, directly use the seaborn API instead.\n",
      "  style.use('seaborn-dark')\n"
     ]
    }
   ],
   "source": [
    "import math\n",
    "import random\n",
    "import pandas as pd\n",
    "import numpy as np\n",
    "import seaborn as sns\n",
    "import matplotlib.pyplot as plt\n",
    "from matplotlib import style\n",
    "import matplotlib as mpl\n",
    "import paste as pst\n",
    "import scanpy as sc\n",
    "import anndata\n",
    "# from sklearn.decomposition import NMF\n",
    "# import scanorama\n",
    "import os\n",
    "# import diopy\n",
    "style.use('seaborn-dark')\n",
    "mpl.rc('xtick', labelsize=14) \n",
    "mpl.rc('ytick', labelsize=14) \n",
    "\n",
    "##### WARNING: IF YOU ARE USING A VERSION OF PASTE THAT IS >v1.1.4 YOU MIGHT RUN INTO SOME SMALL ISSUES ############\n",
    "########## ONE KNOWN ISSUE IS THAT THE INTERSECT FUNCTION IS NOT EXPORTED, an easy fix is to just do: \n",
    "from paste.helper import intersect"
   ]
  },
  {
   "cell_type": "code",
   "execution_count": 12,
   "metadata": {},
   "outputs": [],
   "source": [
    "path_to_output_dir = '../data/SCC/cached-results/'\n",
    "\n",
    "#if not os.path.exists(path_to_output_dir):\n",
    "#    os.makedirs(path_to_output_dir)"
   ]
  },
  {
   "attachments": {},
   "cell_type": "markdown",
   "metadata": {},
   "source": [
    "# Read in Data and Cache Adata"
   ]
  },
  {
   "attachments": {},
   "cell_type": "markdown",
   "metadata": {},
   "source": [
    "Saving it as .h5ad will make it faster to load the second time around."
   ]
  },
  {
   "cell_type": "code",
   "execution_count": 6,
   "metadata": {},
   "outputs": [],
   "source": [
    "def load_layer(patient, sample, metadata):\n",
    "    \"\"\"\n",
    "    Return Layer object of Patient, Sample\n",
    "    \"\"\"\n",
    "    layer_path = f\"../data/SCC/scc_p{patient}_layer{sample}\"\n",
    "    layer = layer_path + \".tsv\"\n",
    "    coor_path = layer_path + \"_coordinates.tsv\"\n",
    "    adata = anndata.read_csv(layer, delimiter=\"\\t\")\n",
    "\n",
    "    # Data pre-processing\n",
    "    coor = pd.read_csv(coor_path, sep=\"\\t\").iloc[:,:2]\n",
    "    coor_index = []\n",
    "    for pair in coor.values:\n",
    "        coor_index.append('x'.join(str(e) for e in pair))\n",
    "    coor.index = coor_index\n",
    "    # The metadata, coordinates, and gene expression might have missing cells between them\n",
    "    idx = intersect(coor_index, adata.obs.index)\n",
    "    \n",
    "    df = metadata[metadata['patient'] == patient]\n",
    "    df = df[df['sample'] == sample]\n",
    "    \n",
    "    meta_idx = []\n",
    "    for i in df.index:\n",
    "        meta_idx.append(i.split('_')[1])\n",
    "    idx = intersect(idx, meta_idx)\n",
    "    \n",
    "    adata = adata[idx, :]\n",
    "    adata.obsm['spatial'] = np.array(coor.loc[idx, :])\n",
    "    metadata_idx = ['P' + str(patient) + '_' + i + '_' + str(sample) for i in idx]\n",
    "    adata.obs['original_clusters'] = [str(x) for x in list(metadata.loc[metadata_idx, 'SCT_snn_res.0.8'])]\n",
    "    return adata"
   ]
  },
  {
   "cell_type": "code",
   "execution_count": 7,
   "metadata": {},
   "outputs": [],
   "source": [
    "metadata_path =  \"../data/SCC/ST_all_metadata.txt\"\n",
    "metadata = pd.read_csv(metadata_path, sep=\"\\t\", index_col=0)\n",
    "\n",
    "adata_2_1 = load_layer(2, 1, metadata)\n",
    "adata_2_2 = load_layer(2, 2, metadata)\n",
    "adata_2_3 = load_layer(2, 3, metadata)\n",
    "patient_2 = [adata_2_1, adata_2_2, adata_2_3]\n",
    "\n",
    "adata_5_1 = load_layer(5, 1, metadata)\n",
    "adata_5_2 = load_layer(5, 2, metadata)\n",
    "adata_5_3 = load_layer(5, 3, metadata)\n",
    "patient_5 = [adata_5_1, adata_5_2, adata_5_3]\n",
    "\n",
    "adata_9_1 = load_layer(9, 1, metadata)\n",
    "adata_9_2 = load_layer(9, 2, metadata)\n",
    "adata_9_3 = load_layer(9, 3, metadata)\n",
    "patient_9 = [adata_9_1, adata_9_2, adata_9_3]\n",
    "\n",
    "adata_10_1 = load_layer(10, 1, metadata)\n",
    "adata_10_2 = load_layer(10, 2, metadata)\n",
    "adata_10_3 = load_layer(10, 3, metadata)\n",
    "patient_10 = [adata_10_1, adata_10_2, adata_10_3]\n",
    "\n",
    "patients = {\n",
    "    \"patient_2\" : patient_2,\n",
    "    \"patient_5\" : patient_5,\n",
    "    \"patient_9\" : patient_9,\n",
    "    \"patient_10\" : patient_10,\n",
    "}\n",
    "\n",
    "for p in patients.values():\n",
    "    for adata in p:\n",
    "        sc.pp.filter_genes(adata, min_cells = 15, inplace = True)\n",
    "        sc.pp.filter_cells(adata, min_genes = 100, inplace = True)"
   ]
  },
  {
   "cell_type": "code",
   "execution_count": 13,
   "metadata": {},
   "outputs": [],
   "source": [
    "H5ADs_dir = path_to_output_dir + 'H5ADs/'\n",
    "\n",
    "if not os.path.exists(H5ADs_dir):\n",
    "    os.makedirs(H5ADs_dir)\n",
    "    \n",
    "for k, p in patients.items():\n",
    "    for i in range(len(p)):\n",
    "        # print(p[i])\n",
    "        # diopy.output.write_h5(p[i],file= (H5ADs_dir + k + '_slice_' + str(i) + '.h5'))\n",
    "        p[i].write(H5ADs_dir + k + '_slice_' + str(i) + '.h5ad')"
   ]
  },
  {
   "attachments": {},
   "cell_type": "markdown",
   "metadata": {},
   "source": [
    "# Plot 3d"
   ]
  },
  {
   "attachments": {},
   "cell_type": "markdown",
   "metadata": {},
   "source": [
    "Read in data"
   ]
  },
  {
   "cell_type": "code",
   "execution_count": 14,
   "metadata": {},
   "outputs": [],
   "source": [
    "path_to_h5ads = path_to_output_dir + 'H5ADs/'\n",
    "\n",
    "patient_2 = []\n",
    "patient_5 = []\n",
    "patient_9 = []\n",
    "patient_10 = []\n",
    "\n",
    "patients = {\n",
    "    \"patient_2\" : patient_2,\n",
    "    \"patient_5\" : patient_5,\n",
    "    \"patient_9\" : patient_9,\n",
    "    \"patient_10\" : patient_10,\n",
    "}\n",
    "\n",
    "for k in patients.keys():\n",
    "    for i in range(3):\n",
    "        patients[k].append(sc.read_h5ad(path_to_h5ads + k + '_slice_' + str(i) + '.h5ad'))"
   ]
  },
  {
   "attachments": {},
   "cell_type": "markdown",
   "metadata": {},
   "source": [
    "Run pairwise align and calculate alignment based on pis"
   ]
  },
  {
   "cell_type": "code",
   "execution_count": 15,
   "metadata": {},
   "outputs": [],
   "source": [
    "import plotly.express as px\n",
    "import plotly.io as pio\n",
    "import warnings\n",
    "import plotly.graph_objects as go"
   ]
  },
  {
   "cell_type": "code",
   "execution_count": 19,
   "metadata": {},
   "outputs": [
    {
     "name": "stdout",
     "output_type": "stream",
     "text": [
      "Using selected backend cpu. If you want to use gpu, set use_gpu = True.\n",
      "Using selected backend cpu. If you want to use gpu, set use_gpu = True.\n",
      "Using selected backend cpu. If you want to use gpu, set use_gpu = True.\n",
      "Using selected backend cpu. If you want to use gpu, set use_gpu = True.\n",
      "Using selected backend cpu. If you want to use gpu, set use_gpu = True.\n",
      "Using selected backend cpu. If you want to use gpu, set use_gpu = True.\n",
      "Using selected backend cpu. If you want to use gpu, set use_gpu = True.\n",
      "Using selected backend cpu. If you want to use gpu, set use_gpu = True.\n"
     ]
    }
   ],
   "source": [
    "\n",
    "for k, patient_n in patients.items():\n",
    "# for k, patient_n in patients.items():\n",
    "    pi12 = pst.pairwise_align(patient_n[0].copy(), patient_n[1].copy(), alpha = 0.1)\n",
    "    pi23 = pst.pairwise_align(patient_n[1].copy(), patient_n[2].copy(), alpha = 0.1)\n",
    "    pis = [pi12, pi23]\n",
    "    new_slices = pst.stack_slices_pairwise(patient_n, pis)\n",
    "    \n",
    "    sub_dir = H5ADs_dir+k+\"/\"\n",
    "    if not os.path.exists(sub_dir):\n",
    "        os.makedirs(sub_dir)\n",
    "        \n",
    "    for i,pi in enumerate(pis):\n",
    "        np.savetxt(fname=(sub_dir + \"pi{0}{1}\".format(i,i+1)+\".csv\"), X=pi, delimiter= \",\")\n",
    "    \n",
    "    for i,L in enumerate(new_slices):\n",
    "        L.write((sub_dir + \"aligned_\" + k + '_slice_' + str(i) + '.h5ad'))\n",
    "        \n",
    "    # warnings.filterwarnings(\"ignore\")\n",
    "    # ## comment out the following line and uncomment out the line below the next if you use jupyterlab instead jupyter notebooks.\n",
    "    # pio.renderers.default='notebook'\n",
    "    # #pio.renderers.default='jupyterlab' \n",
    "    # slice_colors = ['#e41a1c','#377eb8','#4daf4a','#984ea3']\n",
    "    # # scale the distance between layers\n",
    "    # z_scale = 10\n",
    "\n",
    "    # df = pd.DataFrame(columns=['x','y','z','layer'])\n",
    "\n",
    "    # clusters = []\n",
    "    # for i,L in enumerate(new_slices):\n",
    "    #     for x,y in L.obsm['spatial']:\n",
    "    #         df = df._append({'x': x,'y':y,'z':i*z_scale,'slice':str(i)}, ignore_index=True)\n",
    "\n",
    "    #     clusters.append(np.array(L.obs['original_clusters']))\n",
    "    # clusters = np.concatenate(clusters)\n",
    "    # df['clusters'] = clusters\n",
    "    # fig = px.scatter_3d(df, x='x', y='y', z='z',color='clusters', title = k)\n",
    "    # # fig = go.Figure(data=go.Scatter3d())\n",
    "    # fig.update_layout(scene_aspectmode='data')\n",
    "    # fig.show()\n",
    "    "
   ]
  },
  {
   "cell_type": "code",
   "execution_count": 15,
   "metadata": {},
   "outputs": [
    {
     "data": {
      "text/plain": [
       "array([[0.00000000e+00, 0.00000000e+00, 0.00000000e+00, ...,\n",
       "        0.00000000e+00, 0.00000000e+00, 0.00000000e+00],\n",
       "       [0.00000000e+00, 0.00000000e+00, 0.00000000e+00, ...,\n",
       "        0.00000000e+00, 0.00000000e+00, 0.00000000e+00],\n",
       "       [1.50150150e-03, 0.00000000e+00, 0.00000000e+00, ...,\n",
       "        0.00000000e+00, 0.00000000e+00, 0.00000000e+00],\n",
       "       ...,\n",
       "       [0.00000000e+00, 0.00000000e+00, 0.00000000e+00, ...,\n",
       "        0.00000000e+00, 0.00000000e+00, 0.00000000e+00],\n",
       "       [0.00000000e+00, 0.00000000e+00, 0.00000000e+00, ...,\n",
       "        0.00000000e+00, 1.45261541e-03, 4.88860954e-05],\n",
       "       [0.00000000e+00, 0.00000000e+00, 0.00000000e+00, ...,\n",
       "        0.00000000e+00, 0.00000000e+00, 1.50150150e-03]])"
      ]
     },
     "execution_count": 15,
     "metadata": {},
     "output_type": "execute_result"
    }
   ],
   "source": [
    "pi12"
   ]
  },
  {
   "cell_type": "code",
   "execution_count": 30,
   "metadata": {},
   "outputs": [
    {
     "data": {
      "text/plain": [
       "array([[-20.1966967 ,   9.77027027],\n",
       "       [-19.1966967 ,  -5.22972973],\n",
       "       [-19.1966967 ,  -3.22972973],\n",
       "       ...,\n",
       "       [ 21.8033033 ,   9.77027027],\n",
       "       [ 22.8033033 ,   6.77027027],\n",
       "       [ 22.8033033 ,   8.77027027]])"
      ]
     },
     "execution_count": 30,
     "metadata": {},
     "output_type": "execute_result"
    }
   ],
   "source": [
    "new_slices[0].obsm[\"spatial\"]"
   ]
  },
  {
   "cell_type": "code",
   "execution_count": null,
   "metadata": {},
   "outputs": [
    {
     "data": {
      "text/html": [
       "<div>                            <div id=\"c5a48cb4-d159-4c21-a8c8-b0e8343b581f\" class=\"plotly-graph-div\" style=\"height:525px; width:100%;\"></div>            <script type=\"text/javascript\">                require([\"plotly\"], function(Plotly) {                    window.PLOTLYENV=window.PLOTLYENV || {};                                    if (document.getElementById(\"c5a48cb4-d159-4c21-a8c8-b0e8343b581f\")) {                    Plotly.newPlot(                        \"c5a48cb4-d159-4c21-a8c8-b0e8343b581f\",                        [{\"hovertemplate\":\"country=Albania<br>gdpPercap=%{x}<br>pop=%{y}<br>year=%{z}<extra></extra>\",\"legendgroup\":\"Albania\",\"line\":{\"color\":\"#636efa\",\"dash\":\"solid\"},\"marker\":{\"symbol\":\"circle\"},\"mode\":\"lines\",\"name\":\"Albania\",\"scene\":\"scene\",\"showlegend\":true,\"x\":[1601.056136,1942.284244,2312.888958,2760.196931,3313.422188,3533.003910000001,3630.880722,3738.932735,2497.437901,3193.054604,4604.211737,5937.029525999998],\"y\":[1282697,1476505,1728137,1984060,2263554,2509048,2780097,3075321,3326498,3428038,3508512,3600523],\"z\":[1952,1957,1962,1967,1972,1977,1982,1987,1992,1997,2002,2007],\"type\":\"scatter3d\"},{\"hovertemplate\":\"country=Austria<br>gdpPercap=%{x}<br>pop=%{y}<br>year=%{z}<extra></extra>\",\"legendgroup\":\"Austria\",\"line\":{\"color\":\"#EF553B\",\"dash\":\"solid\"},\"marker\":{\"symbol\":\"circle\"},\"mode\":\"lines\",\"name\":\"Austria\",\"scene\":\"scene\",\"showlegend\":true,\"x\":[6137.076492,8842.59803,10750.72111,12834.6024,16661.6256,19749.4223,21597.08362,23687.82607,27042.01868,29095.920660000003,32417.60769,36126.4927],\"y\":[6927772,6965860,7129864,7376998,7544201,7568430,7574613,7578903,7914969,8069876,8148312,8199783],\"z\":[1952,1957,1962,1967,1972,1977,1982,1987,1992,1997,2002,2007],\"type\":\"scatter3d\"},{\"hovertemplate\":\"country=Belgium<br>gdpPercap=%{x}<br>pop=%{y}<br>year=%{z}<extra></extra>\",\"legendgroup\":\"Belgium\",\"line\":{\"color\":\"#00cc96\",\"dash\":\"solid\"},\"marker\":{\"symbol\":\"circle\"},\"mode\":\"lines\",\"name\":\"Belgium\",\"scene\":\"scene\",\"showlegend\":true,\"x\":[8343.105126999999,9714.960623,10991.20676,13149.04119,16672.14356,19117.97448,20979.84589,22525.56308,25575.57069,27561.19663,30485.88375,33692.60508],\"y\":[8730405,8989111,9218400,9556500,9709100,9821800,9856303,9870200,10045622,10199787,10311970,10392226],\"z\":[1952,1957,1962,1967,1972,1977,1982,1987,1992,1997,2002,2007],\"type\":\"scatter3d\"},{\"hovertemplate\":\"country=Bosnia and Herzegovina<br>gdpPercap=%{x}<br>pop=%{y}<br>year=%{z}<extra></extra>\",\"legendgroup\":\"Bosnia and Herzegovina\",\"line\":{\"color\":\"#ab63fa\",\"dash\":\"solid\"},\"marker\":{\"symbol\":\"circle\"},\"mode\":\"lines\",\"name\":\"Bosnia and Herzegovina\",\"scene\":\"scene\",\"showlegend\":true,\"x\":[973.5331948,1353.989176,1709.683679,2172.3524230000007,2860.16975,3528.481305,4126.613157,4314.114757,2546.781445,4766.355904,6018.975239,7446.298803],\"y\":[2791000,3076000,3349000,3585000,3819000,4086000,4172693,4338977,4256013,3607000,4165416,4552198],\"z\":[1952,1957,1962,1967,1972,1977,1982,1987,1992,1997,2002,2007],\"type\":\"scatter3d\"},{\"hovertemplate\":\"country=Bulgaria<br>gdpPercap=%{x}<br>pop=%{y}<br>year=%{z}<extra></extra>\",\"legendgroup\":\"Bulgaria\",\"line\":{\"color\":\"#FFA15A\",\"dash\":\"solid\"},\"marker\":{\"symbol\":\"circle\"},\"mode\":\"lines\",\"name\":\"Bulgaria\",\"scene\":\"scene\",\"showlegend\":true,\"x\":[2444.286648,3008.670727,4254.337839,5577.0028,6597.494398,7612.240438,8224.191647,8239.854824,6302.623438000001,5970.38876,7696.777725,10680.79282],\"y\":[7274900,7651254,8012946,8310226,8576200,8797022,8892098,8971958,8658506,8066057,7661799,7322858],\"z\":[1952,1957,1962,1967,1972,1977,1982,1987,1992,1997,2002,2007],\"type\":\"scatter3d\"},{\"hovertemplate\":\"country=Croatia<br>gdpPercap=%{x}<br>pop=%{y}<br>year=%{z}<extra></extra>\",\"legendgroup\":\"Croatia\",\"line\":{\"color\":\"#19d3f3\",\"dash\":\"solid\"},\"marker\":{\"symbol\":\"circle\"},\"mode\":\"lines\",\"name\":\"Croatia\",\"scene\":\"scene\",\"showlegend\":true,\"x\":[3119.23652,4338.231617,5477.890018,6960.297861,9164.090127,11305.38517,13221.82184,13822.58394,8447.794873,9875.604515,11628.38895,14619.222719999998],\"y\":[3882229,3991242,4076557,4174366,4225310,4318673,4413368,4484310,4494013,4444595,4481020,4493312],\"z\":[1952,1957,1962,1967,1972,1977,1982,1987,1992,1997,2002,2007],\"type\":\"scatter3d\"},{\"hovertemplate\":\"country=Czech Republic<br>gdpPercap=%{x}<br>pop=%{y}<br>year=%{z}<extra></extra>\",\"legendgroup\":\"Czech Republic\",\"line\":{\"color\":\"#FF6692\",\"dash\":\"solid\"},\"marker\":{\"symbol\":\"circle\"},\"mode\":\"lines\",\"name\":\"Czech Republic\",\"scene\":\"scene\",\"showlegend\":true,\"x\":[6876.14025,8256.343918,10136.86713,11399.44489,13108.4536,14800.16062,15377.22855,16310.4434,14297.02122,16048.51424,17596.210219999994,22833.30851],\"y\":[9125183,9513758,9620282,9835109,9862158,10161915,10303704,10311597,10315702,10300707,10256295,10228744],\"z\":[1952,1957,1962,1967,1972,1977,1982,1987,1992,1997,2002,2007],\"type\":\"scatter3d\"},{\"hovertemplate\":\"country=Denmark<br>gdpPercap=%{x}<br>pop=%{y}<br>year=%{z}<extra></extra>\",\"legendgroup\":\"Denmark\",\"line\":{\"color\":\"#B6E880\",\"dash\":\"solid\"},\"marker\":{\"symbol\":\"circle\"},\"mode\":\"lines\",\"name\":\"Denmark\",\"scene\":\"scene\",\"showlegend\":true,\"x\":[9692.385245,11099.65935,13583.31351,15937.21123,18866.20721,20422.9015,21688.04048,25116.17581,26406.73985,29804.34567,32166.50006,35278.41874],\"y\":[4334000,4487831,4646899,4838800,4991596,5088419,5117810,5127024,5171393,5283663,5374693,5468120],\"z\":[1952,1957,1962,1967,1972,1977,1982,1987,1992,1997,2002,2007],\"type\":\"scatter3d\"},{\"hovertemplate\":\"country=Finland<br>gdpPercap=%{x}<br>pop=%{y}<br>year=%{z}<extra></extra>\",\"legendgroup\":\"Finland\",\"line\":{\"color\":\"#FF97FF\",\"dash\":\"solid\"},\"marker\":{\"symbol\":\"circle\"},\"mode\":\"lines\",\"name\":\"Finland\",\"scene\":\"scene\",\"showlegend\":true,\"x\":[6424.519071,7545.415386,9371.842561,10921.63626,14358.8759,15605.42283,18533.15761,21141.01223,20647.16499,23723.9502,28204.59057,33207.0844],\"y\":[4090500,4324000,4491443,4605744,4639657,4738902,4826933,4931729,5041039,5134406,5193039,5238460],\"z\":[1952,1957,1962,1967,1972,1977,1982,1987,1992,1997,2002,2007],\"type\":\"scatter3d\"},{\"hovertemplate\":\"country=France<br>gdpPercap=%{x}<br>pop=%{y}<br>year=%{z}<extra></extra>\",\"legendgroup\":\"France\",\"line\":{\"color\":\"#FECB52\",\"dash\":\"solid\"},\"marker\":{\"symbol\":\"circle\"},\"mode\":\"lines\",\"name\":\"France\",\"scene\":\"scene\",\"showlegend\":true,\"x\":[7029.809327,8662.834898000001,10560.48553,12999.91766,16107.19171,18292.63514,20293.89746,22066.44214,24703.79615,25889.78487,28926.03234,30470.0167],\"y\":[42459667,44310863,47124000,49569000,51732000,53165019,54433565,55630100,57374179,58623428,59925035,61083916],\"z\":[1952,1957,1962,1967,1972,1977,1982,1987,1992,1997,2002,2007],\"type\":\"scatter3d\"},{\"hovertemplate\":\"country=Germany<br>gdpPercap=%{x}<br>pop=%{y}<br>year=%{z}<extra></extra>\",\"legendgroup\":\"Germany\",\"line\":{\"color\":\"#636efa\",\"dash\":\"solid\"},\"marker\":{\"symbol\":\"circle\"},\"mode\":\"lines\",\"name\":\"Germany\",\"scene\":\"scene\",\"showlegend\":true,\"x\":[7144.114393000002,10187.82665,12902.46291,14745.62561,18016.18027,20512.92123,22031.53274,24639.18566,26505.30317,27788.88416,30035.80198,32170.37442],\"y\":[69145952,71019069,73739117,76368453,78717088,78160773,78335266,77718298,80597764,82011073,82350671,82400996],\"z\":[1952,1957,1962,1967,1972,1977,1982,1987,1992,1997,2002,2007],\"type\":\"scatter3d\"},{\"hovertemplate\":\"country=Greece<br>gdpPercap=%{x}<br>pop=%{y}<br>year=%{z}<extra></extra>\",\"legendgroup\":\"Greece\",\"line\":{\"color\":\"#EF553B\",\"dash\":\"solid\"},\"marker\":{\"symbol\":\"circle\"},\"mode\":\"lines\",\"name\":\"Greece\",\"scene\":\"scene\",\"showlegend\":true,\"x\":[3530.690067,4916.299889,6017.190732999999,8513.097016,12724.82957,14195.52428,15268.42089,16120.52839,17541.49634,18747.69814,22514.2548,27538.41188],\"y\":[7733250,8096218,8448233,8716441,8888628,9308479,9786480,9974490,10325429,10502372,10603863,10706290],\"z\":[1952,1957,1962,1967,1972,1977,1982,1987,1992,1997,2002,2007],\"type\":\"scatter3d\"},{\"hovertemplate\":\"country=Hungary<br>gdpPercap=%{x}<br>pop=%{y}<br>year=%{z}<extra></extra>\",\"legendgroup\":\"Hungary\",\"line\":{\"color\":\"#00cc96\",\"dash\":\"solid\"},\"marker\":{\"symbol\":\"circle\"},\"mode\":\"lines\",\"name\":\"Hungary\",\"scene\":\"scene\",\"showlegend\":true,\"x\":[5263.673816,6040.180011,7550.359877,9326.64467,10168.65611,11674.83737,12545.99066,12986.47998,10535.62855,11712.7768,14843.93556,18008.94444],\"y\":[9504000,9839000,10063000,10223422,10394091,10637171,10705535,10612740,10348684,10244684,10083313,9956108],\"z\":[1952,1957,1962,1967,1972,1977,1982,1987,1992,1997,2002,2007],\"type\":\"scatter3d\"},{\"hovertemplate\":\"country=Iceland<br>gdpPercap=%{x}<br>pop=%{y}<br>year=%{z}<extra></extra>\",\"legendgroup\":\"Iceland\",\"line\":{\"color\":\"#ab63fa\",\"dash\":\"solid\"},\"marker\":{\"symbol\":\"circle\"},\"mode\":\"lines\",\"name\":\"Iceland\",\"scene\":\"scene\",\"showlegend\":true,\"x\":[7267.688428,9244.001412,10350.15906,13319.89568,15798.06362,19654.96247,23269.6075,26923.20628,25144.39201,28061.099660000003,31163.20196,36180.78919],\"y\":[147962,165110,182053,198676,209275,221823,233997,244676,259012,271192,288030,301931],\"z\":[1952,1957,1962,1967,1972,1977,1982,1987,1992,1997,2002,2007],\"type\":\"scatter3d\"},{\"hovertemplate\":\"country=Ireland<br>gdpPercap=%{x}<br>pop=%{y}<br>year=%{z}<extra></extra>\",\"legendgroup\":\"Ireland\",\"line\":{\"color\":\"#FFA15A\",\"dash\":\"solid\"},\"marker\":{\"symbol\":\"circle\"},\"mode\":\"lines\",\"name\":\"Ireland\",\"scene\":\"scene\",\"showlegend\":true,\"x\":[5210.280328,5599.077872,6631.597314,7655.568963,9530.772896,11150.98113,12618.32141,13872.86652,17558.81555,24521.94713,34077.04939,40675.99635],\"y\":[2952156,2878220,2830000,2900100,3024400,3271900,3480000,3539900,3557761,3667233,3879155,4109086],\"z\":[1952,1957,1962,1967,1972,1977,1982,1987,1992,1997,2002,2007],\"type\":\"scatter3d\"},{\"hovertemplate\":\"country=Italy<br>gdpPercap=%{x}<br>pop=%{y}<br>year=%{z}<extra></extra>\",\"legendgroup\":\"Italy\",\"line\":{\"color\":\"#19d3f3\",\"dash\":\"solid\"},\"marker\":{\"symbol\":\"circle\"},\"mode\":\"lines\",\"name\":\"Italy\",\"scene\":\"scene\",\"showlegend\":true,\"x\":[4931.404154999998,6248.656232,8243.58234,10022.40131,12269.27378,14255.98475,16537.4835,19207.23482,22013.64486,24675.02446,27968.09817,28569.7197],\"y\":[47666000,49182000,50843200,52667100,54365564,56059245,56535636,56729703,56840847,57479469,57926999,58147733],\"z\":[1952,1957,1962,1967,1972,1977,1982,1987,1992,1997,2002,2007],\"type\":\"scatter3d\"},{\"hovertemplate\":\"country=Montenegro<br>gdpPercap=%{x}<br>pop=%{y}<br>year=%{z}<extra></extra>\",\"legendgroup\":\"Montenegro\",\"line\":{\"color\":\"#FF6692\",\"dash\":\"solid\"},\"marker\":{\"symbol\":\"circle\"},\"mode\":\"lines\",\"name\":\"Montenegro\",\"scene\":\"scene\",\"showlegend\":true,\"x\":[2647.585601,3682.259903,4649.593785,5907.850937,7778.414017,9595.929905,11222.58762,11732.51017,7003.339037000002,6465.613349,6557.194282,9253.896111],\"y\":[413834,442829,474528,501035,527678,560073,562548,569473,621621,692651,720230,684736],\"z\":[1952,1957,1962,1967,1972,1977,1982,1987,1992,1997,2002,2007],\"type\":\"scatter3d\"},{\"hovertemplate\":\"country=Netherlands<br>gdpPercap=%{x}<br>pop=%{y}<br>year=%{z}<extra></extra>\",\"legendgroup\":\"Netherlands\",\"line\":{\"color\":\"#B6E880\",\"dash\":\"solid\"},\"marker\":{\"symbol\":\"circle\"},\"mode\":\"lines\",\"name\":\"Netherlands\",\"scene\":\"scene\",\"showlegend\":true,\"x\":[8941.571858,11276.19344,12790.84956,15363.25136,18794.74567,21209.0592,21399.46046,23651.32361,26790.94961,30246.13063,33724.75778,36797.93332],\"y\":[10381988,11026383,11805689,12596822,13329874,13852989,14310401,14665278,15174244,15604464,16122830,16570613],\"z\":[1952,1957,1962,1967,1972,1977,1982,1987,1992,1997,2002,2007],\"type\":\"scatter3d\"},{\"hovertemplate\":\"country=Norway<br>gdpPercap=%{x}<br>pop=%{y}<br>year=%{z}<extra></extra>\",\"legendgroup\":\"Norway\",\"line\":{\"color\":\"#FF97FF\",\"dash\":\"solid\"},\"marker\":{\"symbol\":\"circle\"},\"mode\":\"lines\",\"name\":\"Norway\",\"scene\":\"scene\",\"showlegend\":true,\"x\":[10095.42172,11653.97304,13450.40151,16361.87647,18965.05551,23311.34939,26298.63531,31540.9748,33965.66115,41283.16433,44683.97525,49357.19017],\"y\":[3327728,3491938,3638919,3786019,3933004,4043205,4114787,4186147,4286357,4405672,4535591,4627926],\"z\":[1952,1957,1962,1967,1972,1977,1982,1987,1992,1997,2002,2007],\"type\":\"scatter3d\"},{\"hovertemplate\":\"country=Poland<br>gdpPercap=%{x}<br>pop=%{y}<br>year=%{z}<extra></extra>\",\"legendgroup\":\"Poland\",\"line\":{\"color\":\"#FECB52\",\"dash\":\"solid\"},\"marker\":{\"symbol\":\"circle\"},\"mode\":\"lines\",\"name\":\"Poland\",\"scene\":\"scene\",\"showlegend\":true,\"x\":[4029.329699,4734.253019,5338.752143,6557.152776,8006.506993000001,9508.141454,8451.531004,9082.351172,7738.881247,10159.58368,12002.23908,15389.924680000002],\"y\":[25730551,28235346,30329617,31785378,33039545,34621254,36227381,37740710,38370697,38654957,38625976,38518241],\"z\":[1952,1957,1962,1967,1972,1977,1982,1987,1992,1997,2002,2007],\"type\":\"scatter3d\"},{\"hovertemplate\":\"country=Portugal<br>gdpPercap=%{x}<br>pop=%{y}<br>year=%{z}<extra></extra>\",\"legendgroup\":\"Portugal\",\"line\":{\"color\":\"#636efa\",\"dash\":\"solid\"},\"marker\":{\"symbol\":\"circle\"},\"mode\":\"lines\",\"name\":\"Portugal\",\"scene\":\"scene\",\"showlegend\":true,\"x\":[3068.319867,3774.571743,4727.954889,6361.517993,9022.247417,10172.48572,11753.84291,13039.30876,16207.266630000002,17641.03156,19970.90787,20509.64777],\"y\":[8526050,8817650,9019800,9103000,8970450,9662600,9859650,9915289,9927680,10156415,10433867,10642836],\"z\":[1952,1957,1962,1967,1972,1977,1982,1987,1992,1997,2002,2007],\"type\":\"scatter3d\"},{\"hovertemplate\":\"country=Romania<br>gdpPercap=%{x}<br>pop=%{y}<br>year=%{z}<extra></extra>\",\"legendgroup\":\"Romania\",\"line\":{\"color\":\"#EF553B\",\"dash\":\"solid\"},\"marker\":{\"symbol\":\"circle\"},\"mode\":\"lines\",\"name\":\"Romania\",\"scene\":\"scene\",\"showlegend\":true,\"x\":[3144.613186,3943.370225,4734.997586,6470.866545,8011.4144019999985,9356.39724,9605.314053,9696.273295,6598.409903,7346.547556999999,7885.360081,10808.47561],\"y\":[16630000,17829327,18680721,19284814,20662648,21658597,22356726,22686371,22797027,22562458,22404337,22276056],\"z\":[1952,1957,1962,1967,1972,1977,1982,1987,1992,1997,2002,2007],\"type\":\"scatter3d\"},{\"hovertemplate\":\"country=Serbia<br>gdpPercap=%{x}<br>pop=%{y}<br>year=%{z}<extra></extra>\",\"legendgroup\":\"Serbia\",\"line\":{\"color\":\"#00cc96\",\"dash\":\"solid\"},\"marker\":{\"symbol\":\"circle\"},\"mode\":\"lines\",\"name\":\"Serbia\",\"scene\":\"scene\",\"showlegend\":true,\"x\":[3581.459448,4981.090891,6289.629157,7991.707066,10522.06749,12980.66956,15181.0927,15870.87851,9325.068238,7914.320304000002,7236.075251,9786.534714],\"y\":[6860147,7271135,7616060,7971222,8313288,8686367,9032824,9230783,9826397,10336594,10111559,10150265],\"z\":[1952,1957,1962,1967,1972,1977,1982,1987,1992,1997,2002,2007],\"type\":\"scatter3d\"},{\"hovertemplate\":\"country=Slovak Republic<br>gdpPercap=%{x}<br>pop=%{y}<br>year=%{z}<extra></extra>\",\"legendgroup\":\"Slovak Republic\",\"line\":{\"color\":\"#ab63fa\",\"dash\":\"solid\"},\"marker\":{\"symbol\":\"circle\"},\"mode\":\"lines\",\"name\":\"Slovak Republic\",\"scene\":\"scene\",\"showlegend\":true,\"x\":[5074.659104,6093.26298,7481.107598,8412.902397,9674.167626,10922.66404,11348.54585,12037.26758,9498.467723,12126.23065,13638.778369999998,18678.31435],\"y\":[3558137,3844277,4237384,4442238,4593433,4827803,5048043,5199318,5302888,5383010,5410052,5447502],\"z\":[1952,1957,1962,1967,1972,1977,1982,1987,1992,1997,2002,2007],\"type\":\"scatter3d\"},{\"hovertemplate\":\"country=Slovenia<br>gdpPercap=%{x}<br>pop=%{y}<br>year=%{z}<extra></extra>\",\"legendgroup\":\"Slovenia\",\"line\":{\"color\":\"#FFA15A\",\"dash\":\"solid\"},\"marker\":{\"symbol\":\"circle\"},\"mode\":\"lines\",\"name\":\"Slovenia\",\"scene\":\"scene\",\"showlegend\":true,\"x\":[4215.041741,5862.276629,7402.303395,9405.489397,12383.4862,15277.030169999998,17866.72175,18678.53492,14214.71681,17161.10735,20660.01936,25768.25759],\"y\":[1489518,1533070,1582962,1646912,1694510,1746919,1861252,1945870,1999210,2011612,2011497,2009245],\"z\":[1952,1957,1962,1967,1972,1977,1982,1987,1992,1997,2002,2007],\"type\":\"scatter3d\"},{\"hovertemplate\":\"country=Spain<br>gdpPercap=%{x}<br>pop=%{y}<br>year=%{z}<extra></extra>\",\"legendgroup\":\"Spain\",\"line\":{\"color\":\"#19d3f3\",\"dash\":\"solid\"},\"marker\":{\"symbol\":\"circle\"},\"mode\":\"lines\",\"name\":\"Spain\",\"scene\":\"scene\",\"showlegend\":true,\"x\":[3834.034742,4564.80241,5693.843879,7993.512294,10638.75131,13236.92117,13926.16997,15764.98313,18603.06452,20445.29896,24835.47166,28821.0637],\"y\":[28549870,29841614,31158061,32850275,34513161,36439000,37983310,38880702,39549438,39855442,40152517,40448191],\"z\":[1952,1957,1962,1967,1972,1977,1982,1987,1992,1997,2002,2007],\"type\":\"scatter3d\"},{\"hovertemplate\":\"country=Sweden<br>gdpPercap=%{x}<br>pop=%{y}<br>year=%{z}<extra></extra>\",\"legendgroup\":\"Sweden\",\"line\":{\"color\":\"#FF6692\",\"dash\":\"solid\"},\"marker\":{\"symbol\":\"circle\"},\"mode\":\"lines\",\"name\":\"Sweden\",\"scene\":\"scene\",\"showlegend\":true,\"x\":[8527.844662000001,9911.878226,12329.44192,15258.29697,17832.02464,18855.72521,20667.38125,23586.92927,23880.01683,25266.59499,29341.630930000007,33859.74835],\"y\":[7124673,7363802,7561588,7867931,8122293,8251648,8325260,8421403,8718867,8897619,8954175,9031088],\"z\":[1952,1957,1962,1967,1972,1977,1982,1987,1992,1997,2002,2007],\"type\":\"scatter3d\"},{\"hovertemplate\":\"country=Switzerland<br>gdpPercap=%{x}<br>pop=%{y}<br>year=%{z}<extra></extra>\",\"legendgroup\":\"Switzerland\",\"line\":{\"color\":\"#B6E880\",\"dash\":\"solid\"},\"marker\":{\"symbol\":\"circle\"},\"mode\":\"lines\",\"name\":\"Switzerland\",\"scene\":\"scene\",\"showlegend\":true,\"x\":[14734.23275,17909.48973,20431.0927,22966.14432,27195.11304,26982.29052,28397.71512,30281.70459,31871.5303,32135.323010000004,34480.95771,37506.41907],\"y\":[4815000,5126000,5666000,6063000,6401400,6316424,6468126,6649942,6995447,7193761,7361757,7554661],\"z\":[1952,1957,1962,1967,1972,1977,1982,1987,1992,1997,2002,2007],\"type\":\"scatter3d\"},{\"hovertemplate\":\"country=Turkey<br>gdpPercap=%{x}<br>pop=%{y}<br>year=%{z}<extra></extra>\",\"legendgroup\":\"Turkey\",\"line\":{\"color\":\"#FF97FF\",\"dash\":\"solid\"},\"marker\":{\"symbol\":\"circle\"},\"mode\":\"lines\",\"name\":\"Turkey\",\"scene\":\"scene\",\"showlegend\":true,\"x\":[1969.10098,2218.754257,2322.869908,2826.3563870000007,3450.69638,4269.122326,4241.356344,5089.043686,5678.348271,6601.429915,6508.085718,8458.276384],\"y\":[22235677,25670939,29788695,33411317,37492953,42404033,47328791,52881328,58179144,63047647,67308928,71158647],\"z\":[1952,1957,1962,1967,1972,1977,1982,1987,1992,1997,2002,2007],\"type\":\"scatter3d\"},{\"hovertemplate\":\"country=United Kingdom<br>gdpPercap=%{x}<br>pop=%{y}<br>year=%{z}<extra></extra>\",\"legendgroup\":\"United Kingdom\",\"line\":{\"color\":\"#FECB52\",\"dash\":\"solid\"},\"marker\":{\"symbol\":\"circle\"},\"mode\":\"lines\",\"name\":\"United Kingdom\",\"scene\":\"scene\",\"showlegend\":true,\"x\":[9979.508487,11283.17795,12477.17707,14142.85089,15895.11641,17428.74846,18232.42452,21664.78767,22705.09254,26074.53136,29478.99919,33203.26128],\"y\":[50430000,51430000,53292000,54959000,56079000,56179000,56339704,56981620,57866349,58808266,59912431,60776238],\"z\":[1952,1957,1962,1967,1972,1977,1982,1987,1992,1997,2002,2007],\"type\":\"scatter3d\"}],                        {\"template\":{\"data\":{\"histogram2dcontour\":[{\"type\":\"histogram2dcontour\",\"colorbar\":{\"outlinewidth\":0,\"ticks\":\"\"},\"colorscale\":[[0.0,\"#0d0887\"],[0.1111111111111111,\"#46039f\"],[0.2222222222222222,\"#7201a8\"],[0.3333333333333333,\"#9c179e\"],[0.4444444444444444,\"#bd3786\"],[0.5555555555555556,\"#d8576b\"],[0.6666666666666666,\"#ed7953\"],[0.7777777777777778,\"#fb9f3a\"],[0.8888888888888888,\"#fdca26\"],[1.0,\"#f0f921\"]]}],\"choropleth\":[{\"type\":\"choropleth\",\"colorbar\":{\"outlinewidth\":0,\"ticks\":\"\"}}],\"histogram2d\":[{\"type\":\"histogram2d\",\"colorbar\":{\"outlinewidth\":0,\"ticks\":\"\"},\"colorscale\":[[0.0,\"#0d0887\"],[0.1111111111111111,\"#46039f\"],[0.2222222222222222,\"#7201a8\"],[0.3333333333333333,\"#9c179e\"],[0.4444444444444444,\"#bd3786\"],[0.5555555555555556,\"#d8576b\"],[0.6666666666666666,\"#ed7953\"],[0.7777777777777778,\"#fb9f3a\"],[0.8888888888888888,\"#fdca26\"],[1.0,\"#f0f921\"]]}],\"heatmap\":[{\"type\":\"heatmap\",\"colorbar\":{\"outlinewidth\":0,\"ticks\":\"\"},\"colorscale\":[[0.0,\"#0d0887\"],[0.1111111111111111,\"#46039f\"],[0.2222222222222222,\"#7201a8\"],[0.3333333333333333,\"#9c179e\"],[0.4444444444444444,\"#bd3786\"],[0.5555555555555556,\"#d8576b\"],[0.6666666666666666,\"#ed7953\"],[0.7777777777777778,\"#fb9f3a\"],[0.8888888888888888,\"#fdca26\"],[1.0,\"#f0f921\"]]}],\"heatmapgl\":[{\"type\":\"heatmapgl\",\"colorbar\":{\"outlinewidth\":0,\"ticks\":\"\"},\"colorscale\":[[0.0,\"#0d0887\"],[0.1111111111111111,\"#46039f\"],[0.2222222222222222,\"#7201a8\"],[0.3333333333333333,\"#9c179e\"],[0.4444444444444444,\"#bd3786\"],[0.5555555555555556,\"#d8576b\"],[0.6666666666666666,\"#ed7953\"],[0.7777777777777778,\"#fb9f3a\"],[0.8888888888888888,\"#fdca26\"],[1.0,\"#f0f921\"]]}],\"contourcarpet\":[{\"type\":\"contourcarpet\",\"colorbar\":{\"outlinewidth\":0,\"ticks\":\"\"}}],\"contour\":[{\"type\":\"contour\",\"colorbar\":{\"outlinewidth\":0,\"ticks\":\"\"},\"colorscale\":[[0.0,\"#0d0887\"],[0.1111111111111111,\"#46039f\"],[0.2222222222222222,\"#7201a8\"],[0.3333333333333333,\"#9c179e\"],[0.4444444444444444,\"#bd3786\"],[0.5555555555555556,\"#d8576b\"],[0.6666666666666666,\"#ed7953\"],[0.7777777777777778,\"#fb9f3a\"],[0.8888888888888888,\"#fdca26\"],[1.0,\"#f0f921\"]]}],\"surface\":[{\"type\":\"surface\",\"colorbar\":{\"outlinewidth\":0,\"ticks\":\"\"},\"colorscale\":[[0.0,\"#0d0887\"],[0.1111111111111111,\"#46039f\"],[0.2222222222222222,\"#7201a8\"],[0.3333333333333333,\"#9c179e\"],[0.4444444444444444,\"#bd3786\"],[0.5555555555555556,\"#d8576b\"],[0.6666666666666666,\"#ed7953\"],[0.7777777777777778,\"#fb9f3a\"],[0.8888888888888888,\"#fdca26\"],[1.0,\"#f0f921\"]]}],\"mesh3d\":[{\"type\":\"mesh3d\",\"colorbar\":{\"outlinewidth\":0,\"ticks\":\"\"}}],\"scatter\":[{\"fillpattern\":{\"fillmode\":\"overlay\",\"size\":10,\"solidity\":0.2},\"type\":\"scatter\"}],\"parcoords\":[{\"type\":\"parcoords\",\"line\":{\"colorbar\":{\"outlinewidth\":0,\"ticks\":\"\"}}}],\"scatterpolargl\":[{\"type\":\"scatterpolargl\",\"marker\":{\"colorbar\":{\"outlinewidth\":0,\"ticks\":\"\"}}}],\"bar\":[{\"error_x\":{\"color\":\"#2a3f5f\"},\"error_y\":{\"color\":\"#2a3f5f\"},\"marker\":{\"line\":{\"color\":\"#E5ECF6\",\"width\":0.5},\"pattern\":{\"fillmode\":\"overlay\",\"size\":10,\"solidity\":0.2}},\"type\":\"bar\"}],\"scattergeo\":[{\"type\":\"scattergeo\",\"marker\":{\"colorbar\":{\"outlinewidth\":0,\"ticks\":\"\"}}}],\"scatterpolar\":[{\"type\":\"scatterpolar\",\"marker\":{\"colorbar\":{\"outlinewidth\":0,\"ticks\":\"\"}}}],\"histogram\":[{\"marker\":{\"pattern\":{\"fillmode\":\"overlay\",\"size\":10,\"solidity\":0.2}},\"type\":\"histogram\"}],\"scattergl\":[{\"type\":\"scattergl\",\"marker\":{\"colorbar\":{\"outlinewidth\":0,\"ticks\":\"\"}}}],\"scatter3d\":[{\"type\":\"scatter3d\",\"line\":{\"colorbar\":{\"outlinewidth\":0,\"ticks\":\"\"}},\"marker\":{\"colorbar\":{\"outlinewidth\":0,\"ticks\":\"\"}}}],\"scattermapbox\":[{\"type\":\"scattermapbox\",\"marker\":{\"colorbar\":{\"outlinewidth\":0,\"ticks\":\"\"}}}],\"scatterternary\":[{\"type\":\"scatterternary\",\"marker\":{\"colorbar\":{\"outlinewidth\":0,\"ticks\":\"\"}}}],\"scattercarpet\":[{\"type\":\"scattercarpet\",\"marker\":{\"colorbar\":{\"outlinewidth\":0,\"ticks\":\"\"}}}],\"carpet\":[{\"aaxis\":{\"endlinecolor\":\"#2a3f5f\",\"gridcolor\":\"white\",\"linecolor\":\"white\",\"minorgridcolor\":\"white\",\"startlinecolor\":\"#2a3f5f\"},\"baxis\":{\"endlinecolor\":\"#2a3f5f\",\"gridcolor\":\"white\",\"linecolor\":\"white\",\"minorgridcolor\":\"white\",\"startlinecolor\":\"#2a3f5f\"},\"type\":\"carpet\"}],\"table\":[{\"cells\":{\"fill\":{\"color\":\"#EBF0F8\"},\"line\":{\"color\":\"white\"}},\"header\":{\"fill\":{\"color\":\"#C8D4E3\"},\"line\":{\"color\":\"white\"}},\"type\":\"table\"}],\"barpolar\":[{\"marker\":{\"line\":{\"color\":\"#E5ECF6\",\"width\":0.5},\"pattern\":{\"fillmode\":\"overlay\",\"size\":10,\"solidity\":0.2}},\"type\":\"barpolar\"}],\"pie\":[{\"automargin\":true,\"type\":\"pie\"}]},\"layout\":{\"autotypenumbers\":\"strict\",\"colorway\":[\"#636efa\",\"#EF553B\",\"#00cc96\",\"#ab63fa\",\"#FFA15A\",\"#19d3f3\",\"#FF6692\",\"#B6E880\",\"#FF97FF\",\"#FECB52\"],\"font\":{\"color\":\"#2a3f5f\"},\"hovermode\":\"closest\",\"hoverlabel\":{\"align\":\"left\"},\"paper_bgcolor\":\"white\",\"plot_bgcolor\":\"#E5ECF6\",\"polar\":{\"bgcolor\":\"#E5ECF6\",\"angularaxis\":{\"gridcolor\":\"white\",\"linecolor\":\"white\",\"ticks\":\"\"},\"radialaxis\":{\"gridcolor\":\"white\",\"linecolor\":\"white\",\"ticks\":\"\"}},\"ternary\":{\"bgcolor\":\"#E5ECF6\",\"aaxis\":{\"gridcolor\":\"white\",\"linecolor\":\"white\",\"ticks\":\"\"},\"baxis\":{\"gridcolor\":\"white\",\"linecolor\":\"white\",\"ticks\":\"\"},\"caxis\":{\"gridcolor\":\"white\",\"linecolor\":\"white\",\"ticks\":\"\"}},\"coloraxis\":{\"colorbar\":{\"outlinewidth\":0,\"ticks\":\"\"}},\"colorscale\":{\"sequential\":[[0.0,\"#0d0887\"],[0.1111111111111111,\"#46039f\"],[0.2222222222222222,\"#7201a8\"],[0.3333333333333333,\"#9c179e\"],[0.4444444444444444,\"#bd3786\"],[0.5555555555555556,\"#d8576b\"],[0.6666666666666666,\"#ed7953\"],[0.7777777777777778,\"#fb9f3a\"],[0.8888888888888888,\"#fdca26\"],[1.0,\"#f0f921\"]],\"sequentialminus\":[[0.0,\"#0d0887\"],[0.1111111111111111,\"#46039f\"],[0.2222222222222222,\"#7201a8\"],[0.3333333333333333,\"#9c179e\"],[0.4444444444444444,\"#bd3786\"],[0.5555555555555556,\"#d8576b\"],[0.6666666666666666,\"#ed7953\"],[0.7777777777777778,\"#fb9f3a\"],[0.8888888888888888,\"#fdca26\"],[1.0,\"#f0f921\"]],\"diverging\":[[0,\"#8e0152\"],[0.1,\"#c51b7d\"],[0.2,\"#de77ae\"],[0.3,\"#f1b6da\"],[0.4,\"#fde0ef\"],[0.5,\"#f7f7f7\"],[0.6,\"#e6f5d0\"],[0.7,\"#b8e186\"],[0.8,\"#7fbc41\"],[0.9,\"#4d9221\"],[1,\"#276419\"]]},\"xaxis\":{\"gridcolor\":\"white\",\"linecolor\":\"white\",\"ticks\":\"\",\"title\":{\"standoff\":15},\"zerolinecolor\":\"white\",\"automargin\":true,\"zerolinewidth\":2},\"yaxis\":{\"gridcolor\":\"white\",\"linecolor\":\"white\",\"ticks\":\"\",\"title\":{\"standoff\":15},\"zerolinecolor\":\"white\",\"automargin\":true,\"zerolinewidth\":2},\"scene\":{\"xaxis\":{\"backgroundcolor\":\"#E5ECF6\",\"gridcolor\":\"white\",\"linecolor\":\"white\",\"showbackground\":true,\"ticks\":\"\",\"zerolinecolor\":\"white\",\"gridwidth\":2},\"yaxis\":{\"backgroundcolor\":\"#E5ECF6\",\"gridcolor\":\"white\",\"linecolor\":\"white\",\"showbackground\":true,\"ticks\":\"\",\"zerolinecolor\":\"white\",\"gridwidth\":2},\"zaxis\":{\"backgroundcolor\":\"#E5ECF6\",\"gridcolor\":\"white\",\"linecolor\":\"white\",\"showbackground\":true,\"ticks\":\"\",\"zerolinecolor\":\"white\",\"gridwidth\":2}},\"shapedefaults\":{\"line\":{\"color\":\"#2a3f5f\"}},\"annotationdefaults\":{\"arrowcolor\":\"#2a3f5f\",\"arrowhead\":0,\"arrowwidth\":1},\"geo\":{\"bgcolor\":\"white\",\"landcolor\":\"#E5ECF6\",\"subunitcolor\":\"white\",\"showland\":true,\"showlakes\":true,\"lakecolor\":\"white\"},\"title\":{\"x\":0.05},\"mapbox\":{\"style\":\"light\"}}},\"scene\":{\"domain\":{\"x\":[0.0,1.0],\"y\":[0.0,1.0]},\"xaxis\":{\"title\":{\"text\":\"gdpPercap\"}},\"yaxis\":{\"title\":{\"text\":\"pop\"}},\"zaxis\":{\"title\":{\"text\":\"year\"}}},\"legend\":{\"title\":{\"text\":\"country\"},\"tracegroupgap\":0},\"margin\":{\"t\":60}},                        {\"responsive\": true}                    ).then(function(){\n",
       "                            \n",
       "var gd = document.getElementById('c5a48cb4-d159-4c21-a8c8-b0e8343b581f');\n",
       "var x = new MutationObserver(function (mutations, observer) {{\n",
       "        var display = window.getComputedStyle(gd).display;\n",
       "        if (!display || display === 'none') {{\n",
       "            console.log([gd, 'removed!']);\n",
       "            Plotly.purge(gd);\n",
       "            observer.disconnect();\n",
       "        }}\n",
       "}});\n",
       "\n",
       "// Listen for the removal of the full notebook cells\n",
       "var notebookContainer = gd.closest('#notebook-container');\n",
       "if (notebookContainer) {{\n",
       "    x.observe(notebookContainer, {childList: true});\n",
       "}}\n",
       "\n",
       "// Listen for the clearing of the current output cell\n",
       "var outputEl = gd.closest('.output');\n",
       "if (outputEl) {{\n",
       "    x.observe(outputEl, {childList: true});\n",
       "}}\n",
       "\n",
       "                        })                };                });            </script>        </div>"
      ]
     },
     "metadata": {},
     "output_type": "display_data"
    }
   ],
   "source": [
    "import plotly.express as px\n",
    "df = px.data.gapminder().query(\"continent=='Europe'\")\n",
    "fig = px.line_3d(df, x=\"gdpPercap\", y=\"pop\", z=\"year\", color='country')\n",
    "fig.show()"
   ]
  },
  {
   "cell_type": "code",
   "execution_count": 2,
   "metadata": {},
   "outputs": [
    {
     "ename": "NameError",
     "evalue": "name 'pi12' is not defined",
     "output_type": "error",
     "traceback": [
      "\u001b[1;31m---------------------------------------------------------------------------\u001b[0m",
      "\u001b[1;31mNameError\u001b[0m                                 Traceback (most recent call last)",
      "Cell \u001b[1;32mIn[2], line 1\u001b[0m\n\u001b[1;32m----> 1\u001b[0m \u001b[39mprint\u001b[39m(pi12)\n",
      "\u001b[1;31mNameError\u001b[0m: name 'pi12' is not defined"
     ]
    }
   ],
   "source": [
    "print(pi12)"
   ]
  },
  {
   "attachments": {},
   "cell_type": "markdown",
   "metadata": {},
   "source": [
    "1. 查看seurat（R中的anndata）如何存储空间转录组多切片数据\n",
    "2. R语言如何画3d的plotly图像\n",
    "3. 看完文献2"
   ]
  }
 ],
 "metadata": {
  "kernelspec": {
   "display_name": "3dreconstruction",
   "language": "python",
   "name": "python3"
  },
  "language_info": {
   "codemirror_mode": {
    "name": "ipython",
    "version": 3
   },
   "file_extension": ".py",
   "mimetype": "text/x-python",
   "name": "python",
   "nbconvert_exporter": "python",
   "pygments_lexer": "ipython3",
   "version": "3.10.11"
  },
  "toc": {
   "base_numbering": 1,
   "nav_menu": {},
   "number_sections": true,
   "sideBar": true,
   "skip_h1_title": false,
   "title_cell": "Table of Contents",
   "title_sidebar": "Contents",
   "toc_cell": false,
   "toc_position": {},
   "toc_section_display": true,
   "toc_window_display": false
  }
 },
 "nbformat": 4,
 "nbformat_minor": 4
}
