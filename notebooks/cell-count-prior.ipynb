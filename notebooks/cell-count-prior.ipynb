{
 "cells": [
  {
   "cell_type": "code",
   "execution_count": 1,
   "metadata": {},
   "outputs": [],
   "source": [
    "import math\n",
    "import pandas as pd\n",
    "import numpy as np\n",
    "import scipy\n",
    "import seaborn as sns\n",
    "import matplotlib.pyplot as plt\n",
    "import matplotlib.patches as mpatches\n",
    "from matplotlib import style\n",
    "import matplotlib\n",
    "import time\n",
    "import scanpy as sc\n",
    "import sklearn\n",
    "import networkx as nx\n",
    "import ot\n",
    "import paste as pst\n",
    "from paste.helper import to_dense_array\n",
    "import anndata"
   ]
  },
  {
   "cell_type": "code",
   "execution_count": 6,
   "metadata": {},
   "outputs": [],
   "source": [
    "def mapping_accuracy(labels1,labels2,pi):\n",
    "    mapping_dict = {'Layer1':1, 'Layer2':2, 'Layer3':3, 'Layer4':4, 'Layer5':5, 'Layer6':6, 'WM':7}\n",
    "    return np.sum(pi*(scipy.spatial.distance_matrix(np.matrix(labels1.map(mapping_dict) ).T,np.matrix(labels2.map(mapping_dict)).T)==0))\n",
    "\n",
    "def mapping_accuracy_per_layer(labels1,labels2,pi):\n",
    "    return {layer:np.sum(pi*np.array(np.matrix(labels1==layer,dtype=int).T.dot(np.matrix(labels2==layer,dtype=int)))) for layer in ['Layer{0}'.format(i) for i in range(1,7)]+['WM']}"
   ]
  },
  {
   "cell_type": "code",
   "execution_count": 2,
   "metadata": {},
   "outputs": [],
   "source": [
    "sample_list = [\"151507\", \"151508\", \"151509\",\"151510\", \"151669\", \"151670\",\"151671\", \"151672\", \"151673\",\"151674\", \"151675\", \"151676\"]\n",
    "adatas = {sample:sc.read_h5ad('../data/DLPFC/{0}_preprocessed.h5'.format(sample)) for sample in sample_list}\n",
    "sample_groups = [[\"151507\", \"151508\", \"151509\",\"151510\"],[ \"151669\", \"151670\",\"151671\", \"151672\"],[ \"151673\",\"151674\", \"151675\", \"151676\"]]\n",
    "layer_groups = [[adatas[sample_groups[j][i]] for i in range(len(sample_groups[j]))] for j in range(len(sample_groups))]\n",
    "layer_to_color_map = {'Layer{0}'.format(i+1):sns.color_palette()[i] for i in range(6)}\n",
    "layer_to_color_map['WM'] = sns.color_palette()[6]"
   ]
  },
  {
   "cell_type": "code",
   "execution_count": 4,
   "metadata": {
    "collapsed": true,
    "jupyter": {
     "outputs_hidden": true
    },
    "tags": []
   },
   "outputs": [
    {
     "name": "stdout",
     "output_type": "stream",
     "text": [
      "0 0\n",
      "                       count   sum  avg_cells\n",
      "layer_guess_reordered                        \n",
      "Layer1                   817  1085   1.328029\n",
      "Layer2                   305   473   1.550820\n",
      "Layer3                  1215  2489   2.048560\n",
      "Layer4                   369  1006   2.726287\n",
      "Layer5                   674  1976   2.931751\n",
      "Layer6                   486  1599   3.290123\n",
      "WM                       354  1670   4.717514\n",
      "                       layer count  cell count  avg_cells      diff\n",
      "layer_guess_reordered                                              \n",
      "Layer1                    0.193602    0.105360   0.071426  0.088242\n",
      "Layer2                    0.072275    0.045931   0.083408  0.026344\n",
      "Layer3                    0.287915    0.241697   0.110179  0.046217\n",
      "Layer4                    0.087441    0.097689   0.146629 -0.010248\n",
      "Layer5                    0.159716    0.191882   0.157680 -0.032166\n",
      "Layer6                    0.115166    0.155273   0.176954 -0.040107\n",
      "WM                        0.083886    0.162167   0.253724 -0.078281\n",
      "0 1\n",
      "                       count   sum  avg_cells\n",
      "layer_guess_reordered                        \n",
      "Layer1                   866  1349   1.557737\n",
      "Layer2                   295   692   2.345763\n",
      "Layer3                  1384  4000   2.890173\n",
      "Layer4                   372  1481   3.981183\n",
      "Layer5                   737  3683   4.997286\n",
      "Layer6                   525  2639   5.026667\n",
      "WM                       200  1234   6.170000\n",
      "                       layer count  cell count  avg_cells      diff\n",
      "layer_guess_reordered                                              \n",
      "Layer1                    0.197762    0.089468   0.057761  0.108294\n",
      "Layer2                    0.067367    0.045895   0.086981  0.021472\n",
      "Layer3                    0.316054    0.265287   0.107167  0.050767\n",
      "Layer4                    0.084951    0.098223   0.147622 -0.013272\n",
      "Layer5                    0.168303    0.244263   0.185299 -0.075960\n",
      "Layer6                    0.119890    0.175023   0.186388 -0.055133\n",
      "WM                        0.045673    0.081841   0.228783 -0.036169\n",
      "0 2\n",
      "                       count   sum  avg_cells\n",
      "layer_guess_reordered                        \n",
      "Layer1                  1188  2911   2.450337\n",
      "Layer2                   602  1447   2.403654\n",
      "Layer3                  1883  6233   3.310143\n",
      "Layer4                   369  1737   4.707317\n",
      "Layer5                   363  1781   4.906336\n",
      "Layer6                   215  1041   4.841860\n",
      "WM                       166   215   1.295181\n",
      "                       layer count  cell count  avg_cells      diff\n",
      "layer_guess_reordered                                              \n",
      "Layer1                    0.248224    0.189457   0.102461  0.058767\n",
      "Layer2                    0.125784    0.094175   0.100509  0.031608\n",
      "Layer3                    0.393439    0.405662   0.138414 -0.012223\n",
      "Layer4                    0.077100    0.113049   0.196837 -0.035949\n",
      "Layer5                    0.075846    0.115913   0.205159 -0.040067\n",
      "Layer6                    0.044923    0.067751   0.202463 -0.022829\n",
      "WM                        0.034684    0.013993   0.054158  0.020692\n",
      "0 3\n",
      "                       count   sum  avg_cells\n",
      "layer_guess_reordered                        \n",
      "Layer1                  1179  2226   1.888041\n",
      "Layer2                   650  2127   3.272308\n",
      "Layer3                  1773  6600   3.722504\n",
      "Layer4                   318  1281   4.028302\n",
      "Layer5                   310  1300   4.193548\n",
      "Layer6                   179   677   3.782123\n",
      "WM                       184   916   4.978261\n",
      "                       layer count  cell count  avg_cells      diff\n",
      "layer_guess_reordered                                              \n",
      "Layer1                    0.256695    0.147154   0.072996  0.109541\n",
      "Layer2                    0.141520    0.140610   0.126514  0.000910\n",
      "Layer3                    0.386022    0.436306   0.143920 -0.050284\n",
      "Layer4                    0.069236    0.084683   0.155743 -0.015447\n",
      "Layer5                    0.067494    0.085939   0.162132 -0.018445\n",
      "Layer6                    0.038972    0.044754   0.146225 -0.005782\n",
      "WM                        0.040061    0.060554   0.192470 -0.020493\n",
      "1 0\n",
      "                       count   sum  avg_cells\n",
      "layer_guess_reordered                        \n",
      "Layer3                  2140  5156   2.409346\n",
      "Layer4                   364  1138   3.126374\n",
      "Layer5                   510  1662   3.258824\n",
      "Layer6                   391  1141   2.918159\n",
      "WM                       230   681   2.960870\n",
      "                       layer count  cell count  avg_cells      diff\n",
      "layer_guess_reordered                                              \n",
      "Layer3                    0.588721    0.527306   0.164196  0.061415\n",
      "Layer4                    0.100138    0.116384   0.213062 -0.016246\n",
      "Layer5                    0.140303    0.169973   0.222088 -0.029671\n",
      "Layer6                    0.107565    0.116691   0.198872 -0.009125\n",
      "WM                        0.063274    0.069646   0.201782 -0.006372\n",
      "1 1\n",
      "                       count    sum  avg_cells\n",
      "layer_guess_reordered                         \n",
      "Layer3                  2174  10669   4.907544\n",
      "Layer4                   211   1594   7.554502\n",
      "Layer5                   581   3936   6.774527\n",
      "Layer6                   308   2075   6.737013\n",
      "WM                       209   1317   6.301435\n",
      "                       layer count  cell count  avg_cells      diff\n",
      "layer_guess_reordered                                              \n",
      "Layer3                    0.624175    0.544587   0.152054  0.079588\n",
      "Layer4                    0.060580    0.081364   0.234067 -0.020784\n",
      "Layer5                    0.166810    0.200909   0.209900 -0.034098\n",
      "Layer6                    0.088430    0.105916   0.208738 -0.017486\n",
      "WM                        0.060006    0.067225   0.195242 -0.007219\n",
      "1 2\n",
      "                       count   sum  avg_cells\n",
      "layer_guess_reordered                        \n",
      "Layer3                  1918  4862   2.534932\n",
      "Layer4                   245   774   3.159184\n",
      "Layer5                   721  2165   3.002774\n",
      "Layer6                   760  2105   2.769737\n",
      "WM                       448  1523   3.399554\n",
      "                       layer count  cell count  avg_cells      diff\n",
      "layer_guess_reordered                                              \n",
      "Layer3                    0.468719    0.425409   0.170517  0.043310\n",
      "Layer4                    0.059873    0.067722   0.212508 -0.007850\n",
      "Layer5                    0.176197    0.189430   0.201987 -0.013233\n",
      "Layer6                    0.185728    0.184181   0.186311  0.001548\n",
      "WM                        0.109482    0.133258   0.228677 -0.023776\n",
      "1 3\n",
      "                       count   sum  avg_cells\n",
      "layer_guess_reordered                        \n",
      "Layer3                  1575  3187   2.023492\n",
      "Layer4                   304   664   2.184211\n",
      "Layer5                   728  1625   2.232143\n",
      "Layer6                   882  1976   2.240363\n",
      "WM                       399  1030   2.581454\n",
      "                       layer count  cell count  avg_cells      diff\n",
      "layer_guess_reordered                                              \n",
      "Layer3                    0.405093    0.375737   0.179680  0.029356\n",
      "Layer4                    0.078189    0.078283   0.193951 -0.000094\n",
      "Layer5                    0.187243    0.191582   0.198207 -0.004339\n",
      "Layer6                    0.226852    0.232964   0.198937 -0.006112\n",
      "WM                        0.102623    0.121434   0.229225 -0.018810\n",
      "2 0\n",
      "                       count   sum  avg_cells\n",
      "layer_guess_reordered                        \n",
      "Layer1                   273  1040   3.809524\n",
      "Layer2                   253  1275   5.039526\n",
      "Layer3                   989  3832   3.874621\n",
      "Layer4                   218  1016   4.660550\n",
      "Layer5                   673  2863   4.254086\n",
      "Layer6                   692  2935   4.241329\n",
      "WM                       513  3218   6.272904\n",
      "                       layer count  cell count  avg_cells      diff\n",
      "layer_guess_reordered                                              \n",
      "Layer1                    0.075602    0.064281   0.118483  0.011321\n",
      "Layer2                    0.070064    0.078806   0.156738 -0.008742\n",
      "Layer3                    0.273885    0.236850   0.120507  0.037035\n",
      "Layer4                    0.060371    0.062797   0.144951 -0.002426\n",
      "Layer5                    0.186375    0.176958   0.132309  0.009417\n",
      "Layer6                    0.191637    0.181408   0.131913  0.010229\n",
      "WM                        0.142066    0.198900   0.195098 -0.056834\n",
      "2 1\n",
      "                       count   sum  avg_cells\n",
      "layer_guess_reordered                        \n",
      "Layer1                   380  1861   4.897368\n",
      "Layer2                   224   779   3.477679\n",
      "Layer3                   924  2564   2.774892\n",
      "Layer4                   247   841   3.404858\n",
      "Layer5                   621  2265   3.647343\n",
      "Layer6                   614  2563   4.174267\n",
      "WM                       625  3759   6.014400\n",
      "                       layer count  cell count  avg_cells      diff\n",
      "layer_guess_reordered                                              \n",
      "Layer1                    0.104539    0.127187   0.172498 -0.022648\n",
      "Layer2                    0.061623    0.053239   0.122493  0.008384\n",
      "Layer3                    0.254195    0.175232   0.097739  0.078963\n",
      "Layer4                    0.067950    0.057477   0.119928  0.010474\n",
      "Layer5                    0.170839    0.154798   0.128469  0.016041\n",
      "Layer6                    0.168913    0.175164   0.147029 -0.006251\n",
      "WM                        0.171939    0.256903   0.211843 -0.084963\n",
      "2 2\n",
      "                       count   sum  avg_cells\n",
      "layer_guess_reordered                        \n",
      "Layer1                   328  1461   4.454268\n",
      "Layer2                   275   759   2.760000\n",
      "Layer3                   771  1695   2.198444\n",
      "Layer4                   275   779   2.832727\n",
      "Layer5                   732  2205   3.012295\n",
      "Layer6                   533  1694   3.178236\n",
      "WM                       652  3947   6.053681\n",
      "                       layer count  cell count  avg_cells      diff\n",
      "layer_guess_reordered                                              \n",
      "Layer1                    0.091980    0.116507   0.181884 -0.024527\n",
      "Layer2                    0.077117    0.060526   0.112701  0.016591\n",
      "Layer3                    0.216209    0.135167   0.089770  0.081041\n",
      "Layer4                    0.077117    0.062121   0.115670  0.014996\n",
      "Layer5                    0.205272    0.175837   0.123003  0.029435\n",
      "Layer6                    0.149467    0.135088   0.129779  0.014379\n",
      "WM                        0.182838    0.314753   0.247193 -0.131915\n",
      "2 3\n",
      "                       count   sum  avg_cells\n",
      "layer_guess_reordered                        \n",
      "Layer1                   289   953   3.297578\n",
      "Layer2                   254   673   2.649606\n",
      "Layer3                   836  1702   2.035885\n",
      "Layer4                   254   673   2.649606\n",
      "Layer5                   649  1756   2.705701\n",
      "Layer6                   616  1739   2.823052\n",
      "WM                       533  3932   7.377111\n",
      "                       layer count  cell count  avg_cells      diff\n",
      "layer_guess_reordered                                              \n",
      "Layer1                    0.084232    0.083392   0.140093  0.000840\n",
      "Layer2                    0.074031    0.058890   0.112565  0.015140\n",
      "Layer3                    0.243661    0.148932   0.086492  0.094728\n",
      "Layer4                    0.074031    0.058890   0.112565  0.015140\n",
      "Layer5                    0.189158    0.153658   0.114948  0.035500\n",
      "Layer6                    0.179539    0.152170   0.119933  0.027369\n",
      "WM                        0.155348    0.344067   0.313406 -0.188719\n"
     ]
    }
   ],
   "source": [
    "for j in range(len(layer_groups)): \n",
    "    for i in range(len(layer_groups[j])):\n",
    "        print(j,i)\n",
    "        temp_counts = pd.read_csv(\"../data/DLPFC/{}_tissue_spot_counts.csv\".format(sample_list[j*4+i]),index_col=0)\n",
    "        temp_idx = layer_groups[j][i].obs.index.copy().map(lambda x: x.split('.')[0])\n",
    "        temp_counts = temp_counts.loc[temp_idx]\n",
    "        layer_groups[j][i].obs['cell_count'] = np.maximum(np.array(temp_counts['count'],dtype=int),1)\n",
    "        temp_stat = layer_groups[j][i].obs.groupby('layer_guess_reordered')['cell_count'].agg(['count','sum'])\n",
    "        temp_stat['avg_cells']=temp_stat['sum']/temp_stat['count']\n",
    "        print(temp_stat)\n",
    "        temp_stat = (temp_stat/temp_stat.sum(axis=0)).rename(columns={'sum':'cell count','count':'layer count'})\n",
    "        temp_stat['diff'] = temp_stat['layer count']-temp_stat['cell count']\n",
    "        print(temp_stat)"
   ]
  },
  {
   "cell_type": "code",
   "execution_count": 7,
   "metadata": {
    "collapsed": true,
    "jupyter": {
     "outputs_hidden": true
    },
    "tags": []
   },
   "outputs": [
    {
     "name": "stdout",
     "output_type": "stream",
     "text": [
      "0 0\n",
      "Filtered all slices for common genes. There are 9219 common genes.\n"
     ]
    },
    {
     "name": "stderr",
     "output_type": "stream",
     "text": [
      "/Users/alexanderstrzalkowski/.pyenv/versions/3.8.3/lib/python3.8/site-packages/ot/lp/__init__.py:276: UserWarning: numItermax reached before optimality. Try to increase numItermax.\n",
      "  result_code_string = check_result(result_code)\n"
     ]
    },
    {
     "name": "stdout",
     "output_type": "stream",
     "text": [
      "Accuracy 0.711758808877025 time 127.75248503684998\n",
      "0 1\n",
      "Filtered all slices for common genes. There are 9248 common genes.\n"
     ]
    },
    {
     "name": "stderr",
     "output_type": "stream",
     "text": [
      "/Users/alexanderstrzalkowski/.pyenv/versions/3.8.3/lib/python3.8/site-packages/ot/lp/__init__.py:276: UserWarning: numItermax reached before optimality. Try to increase numItermax.\n",
      "  result_code_string = check_result(result_code)\n"
     ]
    },
    {
     "name": "stdout",
     "output_type": "stream",
     "text": [
      "Accuracy 0.15713935654558833 time 125.46994972229004\n",
      "0 2\n",
      "Filtered all slices for common genes. There are 10032 common genes.\n"
     ]
    },
    {
     "name": "stderr",
     "output_type": "stream",
     "text": [
      "/Users/alexanderstrzalkowski/.pyenv/versions/3.8.3/lib/python3.8/site-packages/ot/lp/__init__.py:276: UserWarning: numItermax reached before optimality. Try to increase numItermax.\n",
      "  result_code_string = check_result(result_code)\n"
     ]
    },
    {
     "name": "stdout",
     "output_type": "stream",
     "text": [
      "Accuracy 0.7053012454328064 time 108.74441194534302\n",
      "1 0\n",
      "Filtered all slices for common genes. There are 9915 common genes.\n"
     ]
    },
    {
     "name": "stderr",
     "output_type": "stream",
     "text": [
      "/Users/alexanderstrzalkowski/.pyenv/versions/3.8.3/lib/python3.8/site-packages/ot/lp/__init__.py:276: UserWarning: numItermax reached before optimality. Try to increase numItermax.\n",
      "  result_code_string = check_result(result_code)\n"
     ]
    },
    {
     "name": "stdout",
     "output_type": "stream",
     "text": [
      "Accuracy 0.9150107359740264 time 16.663379907608032\n",
      "1 1\n",
      "Filtered all slices for common genes. There are 9965 common genes.\n"
     ]
    },
    {
     "name": "stderr",
     "output_type": "stream",
     "text": [
      "/Users/alexanderstrzalkowski/.pyenv/versions/3.8.3/lib/python3.8/site-packages/ot/lp/__init__.py:276: UserWarning: numItermax reached before optimality. Try to increase numItermax.\n",
      "  result_code_string = check_result(result_code)\n"
     ]
    },
    {
     "name": "stdout",
     "output_type": "stream",
     "text": [
      "Accuracy 0.5919535439415383 time 19.496335983276367\n",
      "1 2\n",
      "Filtered all slices for common genes. There are 10543 common genes.\n"
     ]
    },
    {
     "name": "stderr",
     "output_type": "stream",
     "text": [
      "/Users/alexanderstrzalkowski/.pyenv/versions/3.8.3/lib/python3.8/site-packages/ot/lp/__init__.py:276: UserWarning: numItermax reached before optimality. Try to increase numItermax.\n",
      "  result_code_string = check_result(result_code)\n"
     ]
    },
    {
     "name": "stdout",
     "output_type": "stream",
     "text": [
      "Accuracy 0.8547483805009282 time 375.3860821723938\n",
      "2 0\n",
      "Filtered all slices for common genes. There are 11373 common genes.\n"
     ]
    },
    {
     "name": "stderr",
     "output_type": "stream",
     "text": [
      "/Users/alexanderstrzalkowski/.pyenv/versions/3.8.3/lib/python3.8/site-packages/ot/lp/__init__.py:276: UserWarning: numItermax reached before optimality. Try to increase numItermax.\n",
      "  result_code_string = check_result(result_code)\n"
     ]
    },
    {
     "name": "stdout",
     "output_type": "stream",
     "text": [
      "Accuracy 0.6411975488073554 time 215.49228715896606\n",
      "2 1\n",
      "Filtered all slices for common genes. There are 10629 common genes.\n"
     ]
    },
    {
     "name": "stderr",
     "output_type": "stream",
     "text": [
      "/Users/alexanderstrzalkowski/.pyenv/versions/3.8.3/lib/python3.8/site-packages/ot/lp/__init__.py:276: UserWarning: numItermax reached before optimality. Try to increase numItermax.\n",
      "  result_code_string = check_result(result_code)\n"
     ]
    },
    {
     "name": "stdout",
     "output_type": "stream",
     "text": [
      "Accuracy 0.7656910243699107 time 175.1365840435028\n",
      "2 2\n",
      "Filtered all slices for common genes. There are 10493 common genes.\n"
     ]
    },
    {
     "name": "stderr",
     "output_type": "stream",
     "text": [
      "/Users/alexanderstrzalkowski/.pyenv/versions/3.8.3/lib/python3.8/site-packages/ot/lp/__init__.py:276: UserWarning: numItermax reached before optimality. Try to increase numItermax.\n",
      "  result_code_string = check_result(result_code)\n"
     ]
    },
    {
     "name": "stdout",
     "output_type": "stream",
     "text": [
      "Accuracy 0.7699027933852826 time 74.70582008361816\n"
     ]
    }
   ],
   "source": [
    "alpha = 0.1\n",
    "pis_with_cells = [[None for i in range(len(layer_groups[j])-1)] for j in range(len(layer_groups))]\n",
    "for j in range(len(layer_groups)):\n",
    "    for i in range(len(layer_groups[j])-1):\n",
    "        print(j,i)\n",
    "        a_distribution = np.array(layer_groups[j][i].obs['cell_count']/sum(layer_groups[j][i].obs['cell_count']))\n",
    "        b_distribution = np.array(layer_groups[j][i+1].obs['cell_count']/sum(layer_groups[j][i+1].obs['cell_count']))\n",
    "        pi0=np.loadtxt('../data/DLPFC/saved_results/init_{0}_{1}_{2}.gz'.format(j,i,'ot'), delimiter=',')\n",
    "        start = time.time()\n",
    "        pis_with_cells[j][i] = pst.pairwise_align(layer_groups[j][i], layer_groups[j][i+1],alpha=alpha, a_distribution = a_distribution, b_distribution = b_distribution,G_init=pi0,norm=True,verbose=False)\n",
    "        tt = time.time()-start\n",
    "        acc = mapping_accuracy(layer_groups[j][i].obs['layer_guess_reordered'],layer_groups[j][i+1].obs['layer_guess_reordered'],pis_with_cells[j][i])\n",
    "        print('Accuracy',acc,'time',tt)"
   ]
  },
  {
   "cell_type": "code",
   "execution_count": 10,
   "metadata": {},
   "outputs": [],
   "source": [
    "new_layer_groups = [pst.stack_slices_pairwise(layer_groups[j], pis_with_cells[j]) for j in range(len(layer_groups))]"
   ]
  },
  {
   "cell_type": "markdown",
   "metadata": {},
   "source": [
    "In order to run the cell below it is necessary to have ran the notebook `DLPFC_pairwise.ipynb` first to generate the pairwise pis."
   ]
  },
  {
   "cell_type": "code",
   "execution_count": 12,
   "metadata": {},
   "outputs": [],
   "source": [
    "pis = [[None for i in range(len(layer_groups[j])-1)] for j in range(len(layer_groups))]\n",
    "for j in range(len(layer_groups)):\n",
    "    for i in range(len(layer_groups[j])-1):\n",
    "        pis[j][i]=np.loadtxt('../data/DLPFC/saved_results/init_{0}_{1}_{2}.gz'.format(j,i,\"ot\"), delimiter=',')"
   ]
  },
  {
   "cell_type": "code",
   "execution_count": 14,
   "metadata": {
    "collapsed": true,
    "jupyter": {
     "outputs_hidden": true
    },
    "tags": []
   },
   "outputs": [
    {
     "data": {
      "text/html": [
       "<div>\n",
       "<style scoped>\n",
       "    .dataframe tbody tr th:only-of-type {\n",
       "        vertical-align: middle;\n",
       "    }\n",
       "\n",
       "    .dataframe tbody tr th {\n",
       "        vertical-align: top;\n",
       "    }\n",
       "\n",
       "    .dataframe thead th {\n",
       "        text-align: right;\n",
       "    }\n",
       "</style>\n",
       "<table border=\"1\" class=\"dataframe\">\n",
       "  <thead>\n",
       "    <tr style=\"text-align: right;\">\n",
       "      <th></th>\n",
       "      <th>Sample</th>\n",
       "      <th>Pair</th>\n",
       "      <th>Distribution</th>\n",
       "      <th>Layer</th>\n",
       "      <th>Accuracy</th>\n",
       "    </tr>\n",
       "  </thead>\n",
       "  <tbody>\n",
       "    <tr>\n",
       "      <th>0</th>\n",
       "      <td>I</td>\n",
       "      <td>AB</td>\n",
       "      <td>Uniform</td>\n",
       "      <td>Layer1</td>\n",
       "      <td>0.180743</td>\n",
       "    </tr>\n",
       "    <tr>\n",
       "      <th>1</th>\n",
       "      <td>I</td>\n",
       "      <td>AB</td>\n",
       "      <td>Uniform</td>\n",
       "      <td>Layer2</td>\n",
       "      <td>0.041323</td>\n",
       "    </tr>\n",
       "    <tr>\n",
       "      <th>2</th>\n",
       "      <td>I</td>\n",
       "      <td>AB</td>\n",
       "      <td>Uniform</td>\n",
       "      <td>Layer3</td>\n",
       "      <td>0.274730</td>\n",
       "    </tr>\n",
       "    <tr>\n",
       "      <th>3</th>\n",
       "      <td>I</td>\n",
       "      <td>AB</td>\n",
       "      <td>Uniform</td>\n",
       "      <td>Layer4</td>\n",
       "      <td>0.060049</td>\n",
       "    </tr>\n",
       "    <tr>\n",
       "      <th>4</th>\n",
       "      <td>I</td>\n",
       "      <td>AB</td>\n",
       "      <td>Uniform</td>\n",
       "      <td>Layer5</td>\n",
       "      <td>0.133307</td>\n",
       "    </tr>\n",
       "    <tr>\n",
       "      <th>...</th>\n",
       "      <td>...</td>\n",
       "      <td>...</td>\n",
       "      <td>...</td>\n",
       "      <td>...</td>\n",
       "      <td>...</td>\n",
       "    </tr>\n",
       "    <tr>\n",
       "      <th>121</th>\n",
       "      <td>III</td>\n",
       "      <td>CD</td>\n",
       "      <td>Cell_Count</td>\n",
       "      <td>Layer3</td>\n",
       "      <td>0.101312</td>\n",
       "    </tr>\n",
       "    <tr>\n",
       "      <th>122</th>\n",
       "      <td>III</td>\n",
       "      <td>CD</td>\n",
       "      <td>Cell_Count</td>\n",
       "      <td>Layer4</td>\n",
       "      <td>0.026579</td>\n",
       "    </tr>\n",
       "    <tr>\n",
       "      <th>123</th>\n",
       "      <td>III</td>\n",
       "      <td>CD</td>\n",
       "      <td>Cell_Count</td>\n",
       "      <td>Layer5</td>\n",
       "      <td>0.117293</td>\n",
       "    </tr>\n",
       "    <tr>\n",
       "      <th>124</th>\n",
       "      <td>III</td>\n",
       "      <td>CD</td>\n",
       "      <td>Cell_Count</td>\n",
       "      <td>Layer6</td>\n",
       "      <td>0.101950</td>\n",
       "    </tr>\n",
       "    <tr>\n",
       "      <th>125</th>\n",
       "      <td>III</td>\n",
       "      <td>CD</td>\n",
       "      <td>Cell_Count</td>\n",
       "      <td>WM</td>\n",
       "      <td>0.310487</td>\n",
       "    </tr>\n",
       "  </tbody>\n",
       "</table>\n",
       "<p>126 rows × 5 columns</p>\n",
       "</div>"
      ],
      "text/plain": [
       "    Sample Pair Distribution   Layer  Accuracy\n",
       "0        I   AB      Uniform  Layer1  0.180743\n",
       "1        I   AB      Uniform  Layer2  0.041323\n",
       "2        I   AB      Uniform  Layer3  0.274730\n",
       "3        I   AB      Uniform  Layer4  0.060049\n",
       "4        I   AB      Uniform  Layer5  0.133307\n",
       "..     ...  ...          ...     ...       ...\n",
       "121    III   CD   Cell_Count  Layer3  0.101312\n",
       "122    III   CD   Cell_Count  Layer4  0.026579\n",
       "123    III   CD   Cell_Count  Layer5  0.117293\n",
       "124    III   CD   Cell_Count  Layer6  0.101950\n",
       "125    III   CD   Cell_Count      WM  0.310487\n",
       "\n",
       "[126 rows x 5 columns]"
      ]
     },
     "execution_count": 14,
     "metadata": {},
     "output_type": "execute_result"
    }
   ],
   "source": [
    "sample_map,pair_map = {0:'I',1:'II',2:'III'},{0:'AB',1:'BC',2:'CD'}\n",
    "comaprison_df = pd.DataFrame(columns=['Sample','Pair','Distribution','Layer','Accuracy'])\n",
    "for j in range(len(layer_groups)):\n",
    "    for i in range(len(layer_groups[j])-1):\n",
    "        for dist,aligns in [('Uniform',pis),('Cell_Count',pis_with_cells)]:\n",
    "            accs = mapping_accuracy_per_layer(layer_groups[j][i].obs['layer_guess_reordered'],layer_groups[j][i+1].obs['layer_guess_reordered'],aligns[j][i])            \n",
    "            for layer in accs:\n",
    "                comaprison_df.loc[len(comaprison_df)] = [sample_map[j],pair_map[i],dist,layer,accs[layer]]\n",
    "comaprison_df"
   ]
  },
  {
   "cell_type": "code",
   "execution_count": 15,
   "metadata": {},
   "outputs": [
    {
     "data": {
      "image/png": "[encoded data removed]",
      "text/plain": [
       "<Figure size 1150.12x1080 with 9 Axes>"
      ]
     },
     "metadata": {
      "needs_background": "light"
     },
     "output_type": "display_data"
    }
   ],
   "source": [
    "g = sns.catplot(x=\"Distribution\", y=\"Accuracy\",hue='Layer',row='Sample', col=\"Pair\",data=comaprison_df,kind=\"bar\", ci=None, aspect=1,legend=True)"
   ]
  },
  {
   "cell_type": "code",
   "execution_count": 16,
   "metadata": {},
   "outputs": [
    {
     "data": {
      "image/png": "[encoded data removed]",
      "text/plain": [
       "<Figure size 1169.25x360 with 3 Axes>"
      ]
     },
     "metadata": {
      "needs_background": "light"
     },
     "output_type": "display_data"
    }
   ],
   "source": [
    "g = sns.catplot(x=\"Pair\", y=\"Accuracy\", hue='Distribution', col=\"Sample\",data=comaprison_df.groupby(['Sample','Pair','Distribution'])['Accuracy'].agg('sum').reset_index(),kind=\"bar\", ci=None, aspect=1,legend=True,hue_order=['Uniform','Cell_Count'],palette='Set2')"
   ]
  }
 ],
 "metadata": {
  "kernelspec": {
   "display_name": "Python 3",
   "language": "python",
   "name": "python3"
  },
  "language_info": {
   "codemirror_mode": {
    "name": "ipython",
    "version": 3
   },
   "file_extension": ".py",
   "mimetype": "text/x-python",
   "name": "python",
   "nbconvert_exporter": "python",
   "pygments_lexer": "ipython3",
   "version": "3.8.3"
  }
 },
 "nbformat": 4,
 "nbformat_minor": 4
}
