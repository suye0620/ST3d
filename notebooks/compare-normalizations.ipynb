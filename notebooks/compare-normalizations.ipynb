{
 "cells": [
  {
   "cell_type": "code",
   "execution_count": 1,
   "metadata": {},
   "outputs": [],
   "source": [
    "import math\n",
    "import pandas as pd\n",
    "import numpy as np\n",
    "import scipy\n",
    "import seaborn as sns\n",
    "import matplotlib.pyplot as plt\n",
    "import matplotlib.patches as mpatches\n",
    "from matplotlib import style\n",
    "import matplotlib\n",
    "import time\n",
    "import scanpy as sc\n",
    "import sklearn\n",
    "import networkx as nx\n",
    "import ot\n",
    "import paste as pst\n",
    "from paste.helper import to_dense_array\n",
    "import anndata"
   ]
  },
  {
   "cell_type": "code",
   "execution_count": null,
   "metadata": {},
   "outputs": [],
   "source": [
    "def normalize_layers(adatas, sample_groups, hv_genes=False):\n",
    "    sc.settings.verbosity = 0\n",
    "\n",
    "    normalized_layer_groups = [[adatas[sample_groups[j][i]].copy() for i in range(len(sample_groups[j]))] for j in range(len(sample_groups))]\n",
    "    for j in range(len(normalized_layer_groups)):\n",
    "        for i in range(len(normalized_layer_groups[j])):\n",
    "            sc.pp.calculate_qc_metrics(normalized_layer_groups[j][i], inplace=True)\n",
    "            sc.pp.normalize_total(normalized_layer_groups[j][i], inplace=True)\n",
    "            sc.pp.log1p(normalized_layer_groups[j][i])\n",
    "            if hv_genes:\n",
    "                sc.pp.highly_variable_genes(normalized_layer_groups[j][i], flavor=\"seurat\", n_top_genes=2000, subset=True)\n",
    "    return normalized_layer_groups"
   ]
  },
  {
   "cell_type": "code",
   "execution_count": null,
   "metadata": {},
   "outputs": [],
   "source": [
    "def compare_align_accs(default_layer_groups, norm_layer_groups, hv_genes_layer_groups):\n",
    "    alpha = 0.1\n",
    "    norm_comp_res_df = pd.DataFrame(columns=['sample','pair','kind','time','accuracy','init','alpha'])\n",
    "    for j in range(len(normalized_layer_groups)):\n",
    "        for i in range(len(normalized_layer_groups[j])-1):\n",
    "            pi0 = np.loadtxt('../data/DLPFC/saved_results/init_{0}_{1}_{2}.gz'.format(j,i,'ot'), delimiter=',')\n",
    "            start = time.time()\n",
    "            pi_default = pst.pairwise_align(default_layer_groups[j][i], default_layer_groups[j][i+1],alpha=alpha,G_init=pi0,norm=True,verbose=False)\n",
    "            acc_default = pst.mapping_accuracy(default_layer_groups[j][i].obs['layer_guess_reordered'],default_layer_groups[j][i+1].obs['layer_guess_reordered'],pi_default)\n",
    "            tt = time.time()-start\n",
    "            print(j,i,'Accuracy',acc_default,'time',tt, 'Default')\n",
    "            norm_comp_res_df.loc[len(norm_comp_res_df)] = [j,i,'PASTE',tt,acc_default,True,alpha]\n",
    "            \n",
    "            start = time.time()\n",
    "            pi_norm = pst.pairwise_align(norm_layer_groups[j][i], norm_layer_groups[j][i+1],alpha=alpha,G_init=pi0,norm=True,verbose=False,dissimilarity='euc')\n",
    "            acc_norm = pst.mapping_accuracy(norm_layer_groups[j][i].obs['layer_guess_reordered'],norm_layer_groups[j][i+1].obs['layer_guess_reordered'],pi_norm)\n",
    "            tt = time.time()-start\n",
    "            print(j,i,'Accuracy',acc_norm,'time',tt, 'Lib-Log-Norm')\n",
    "            norm_comp_res_df.loc[len(norm_comp_res_df)] = [j,i,'PASTE-norm-genes',tt,acc_norm,True,alpha]\n",
    "            \n",
    "            start = time.time()\n",
    "            pi_hv = pst.pairwise_align(hv_genes_layer_groups[j][i], hv_genes_layer_groups[j][i+1],alpha=alpha,G_init=pi0,norm=True,verbose=False,dissimilarity='euc')\n",
    "            acc_hv = pst.mapping_accuracy(hv_genes_layer_groups[j][i].obs['layer_guess_reordered'],hv_genes_layer_groups[j][i+1].obs['layer_guess_reordered'],pi_hv)\n",
    "            tt = time.time()-start\n",
    "            print(j,i,'Accuracy',acc_hv,'time',tt, 'HV-Genes')\n",
    "            norm_comp_res_df.loc[len(norm_comp_res_df)] = [j,i,'PASTE-hv-genes',tt,acc_hv,True,alpha]\n",
    "    return norm_comp_res_df"
   ]
  },
  {
   "cell_type": "code",
   "execution_count": 2,
   "metadata": {},
   "outputs": [],
   "source": [
    "sample_list = [\"151507\", \"151508\", \"151509\",\"151510\", \"151669\", \"151670\",\"151671\", \"151672\", \"151673\",\"151674\", \"151675\", \"151676\"]\n",
    "adatas = {sample:sc.read_h5ad('../data/DLPFC/{0}_preprocessed.h5'.format(sample)) for sample in sample_list}\n",
    "sample_groups = [[\"151507\", \"151508\", \"151509\",\"151510\"],[ \"151669\", \"151670\",\"151671\", \"151672\"],[ \"151673\",\"151674\", \"151675\", \"151676\"]]\n",
    "layer_groups = [[adatas[sample_groups[j][i]] for i in range(len(sample_groups[j]))] for j in range(len(sample_groups))]\n",
    "layer_to_color_map = {'Layer{0}'.format(i+1):sns.color_palette()[i] for i in range(6)}\n",
    "layer_to_color_map['WM'] = sns.color_palette()[6]"
   ]
  },
  {
   "cell_type": "markdown",
   "metadata": {},
   "source": [
    "# Using saved results\n",
    "If you want to reproduce the `norm_comp_res_df` file yourself:\n",
    "1. Uncomment out the cell below and run it.\n",
    "2. Uncomment out the first line of the laste cell, i.e. `norm_comp_res_df = pd.read_csv(...)`"
   ]
  },
  {
   "cell_type": "code",
   "execution_count": null,
   "metadata": {},
   "outputs": [],
   "source": [
    "# norm_layer_groups = normalize_layers(adatas, sample_groups, hv_genes=False)\n",
    "# hv_layer_groups = normalize_layers(adatas, sample_groups, hv_genes=True)\n",
    "# norm_comp_res_df = compare_align_accs(default_layer_groups, norm_layer_groups, hv_genes_layer_groups)\n",
    "# norm_comp_res_df.to_csv(\"../data/DLPFC/saved_results/PASTE_pairwise_accuracy_gene_similarity.csv\")"
   ]
  },
  {
   "cell_type": "code",
   "execution_count": 4,
   "metadata": {},
   "outputs": [
    {
     "name": "stdout",
     "output_type": "stream",
     "text": [
      "    Sample Pair         PASTE        time  Accuracy  init  alpha\n",
      "8        I   AB       Default  587.697182  0.815994  True    0.1\n",
      "28       I   BC  Lib-Log-Norm  422.881966  0.225648  True    0.1\n",
      "38       I   CD       Default   98.696556  0.870064  True    0.1\n",
      "53      II   AB       Default  760.567680  0.915011  True    0.1\n",
      "31      II   BC  Lib-Log-Norm  269.935027  0.595632  True    0.1\n",
      "83      II   CD       Default  671.969731  0.861739  True    0.1\n",
      "98     III   AB       Default  478.119778  0.858728  True    0.1\n",
      "113    III   BC       Default  465.395535  0.828177  True    0.1\n",
      "128    III   CD       Default  297.855867  0.828471  True    0.1\n"
     ]
    },
    {
     "data": {
      "image/png": "[encoded data removed]",
      "text/plain": [
       "<Figure size 1182.75x360 with 3 Axes>"
      ]
     },
     "metadata": {
      "needs_background": "light"
     },
     "output_type": "display_data"
    }
   ],
   "source": [
    "norm_comp_res_df = pd.read_csv('../data/DLPFC/saved_results/PASTE_pairwise_accuracy_gene_similarity.csv',index_col=0,sep=',')\n",
    "res_df = pd.read_csv('../data/DLPFC/saved_results/PASTE_pairwise_accuracy_results_objective.csv',index_col=0,sep=',').drop('Objective',axis=1)\n",
    "sample_map,pair_map = {0:'I',1:'II',2:'III'},{0:'AB',1:'BC',2:'CD'}\n",
    "norm_comp_res_df2 = norm_comp_res_df[norm_comp_res_df['init']==True].copy()\n",
    "norm_comp_res_df2 = norm_comp_res_df2.append(res_df[((res_df['kind']=='PASTE')&(res_df['alpha']==0.1)&(res_df['init']==True))])\n",
    "norm_comp_res_df2['sample'] = norm_comp_res_df2['sample'].map(sample_map)\n",
    "norm_comp_res_df2['pair'] = norm_comp_res_df2['pair'].map(pair_map)\n",
    "norm_comp_res_df2 = norm_comp_res_df2.rename(columns={'sample':'Sample','pair':'Pair','accuracy':'Accuracy','kind':'PASTE'})\n",
    "norm_comp_res_df2['PASTE'] = norm_comp_res_df2['PASTE'].map({'PASTE-norm-genes':'Lib-Log-Norm','PASTE-hv-genes':'HVG','PASTE':'Default'})\n",
    "g = sns.catplot(x=\"Pair\", y=\"Accuracy\", hue='PASTE', col=\"Sample\",data=norm_comp_res_df2,kind=\"bar\", ci=None, aspect=1,legend=True,hue_order=['Default','Lib-Log-Norm','HVG'],palette='Set2')\n",
    "g.set_axis_labels(\"Pair\", \"Accuracy\").set(ylim=(0, 1))\n",
    "print(norm_comp_res_df2.loc[norm_comp_res_df2.groupby(['Sample','Pair']).Accuracy.idxmax()])"
   ]
  }
 ],
 "metadata": {
  "kernelspec": {
   "display_name": "Python 3",
   "language": "python",
   "name": "python3"
  },
  "language_info": {
   "codemirror_mode": {
    "name": "ipython",
    "version": 3
   },
   "file_extension": ".py",
   "mimetype": "text/x-python",
   "name": "python",
   "nbconvert_exporter": "python",
   "pygments_lexer": "ipython3",
   "version": "3.8.3"
  }
 },
 "nbformat": 4,
 "nbformat_minor": 4
}
